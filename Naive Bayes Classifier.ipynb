{
 "cells": [
  {
   "cell_type": "markdown",
   "metadata": {},
   "source": [
    "<h2> Imports"
   ]
  },
  {
   "cell_type": "code",
   "execution_count": 1,
   "metadata": {},
   "outputs": [],
   "source": [
    "#in the following code, a Gaussian Naive Bayes Classifier will be build to predict whether a person makes over 50K a year\n",
    "\n",
    "import numpy as np # linear algebra\n",
    "import pandas as pd # data processing, CSV file I/O (e.g. pd.read_csv), Python data analysis library\n",
    "import matplotlib.pyplot as plt # for data visualization purposes\n",
    "import seaborn as sns # for statistical data visualization; to explore the purpose and target column\n",
    "\n",
    "# Machine Learning and data analysis\n",
    "\n",
    "from sklearn.preprocessing import StandardScaler\n",
    "from sklearn.model_selection import train_test_split\n",
    "from sklearn.naive_bayes import GaussianNB\n",
    "from sklearn.metrics import accuracy_score\n",
    "from sklearn.metrics import fbeta_score"
   ]
  },
  {
   "cell_type": "markdown",
   "metadata": {},
   "source": [
    "<h2> Loading the dataset"
   ]
  },
  {
   "cell_type": "code",
   "execution_count": 3,
   "metadata": {},
   "outputs": [
    {
     "data": {
      "text/html": [
       "<div>\n",
       "<style scoped>\n",
       "    .dataframe tbody tr th:only-of-type {\n",
       "        vertical-align: middle;\n",
       "    }\n",
       "\n",
       "    .dataframe tbody tr th {\n",
       "        vertical-align: top;\n",
       "    }\n",
       "\n",
       "    .dataframe thead th {\n",
       "        text-align: right;\n",
       "    }\n",
       "</style>\n",
       "<table border=\"1\" class=\"dataframe\">\n",
       "  <thead>\n",
       "    <tr style=\"text-align: right;\">\n",
       "      <th></th>\n",
       "      <th>age</th>\n",
       "      <th>workclass</th>\n",
       "      <th>fnlwgt</th>\n",
       "      <th>education</th>\n",
       "      <th>educational-num</th>\n",
       "      <th>marital-status</th>\n",
       "      <th>occupation</th>\n",
       "      <th>relationship</th>\n",
       "      <th>race</th>\n",
       "      <th>gender</th>\n",
       "      <th>capital-gain</th>\n",
       "      <th>capital-loss</th>\n",
       "      <th>hours-per-week</th>\n",
       "      <th>native-country</th>\n",
       "      <th>income</th>\n",
       "    </tr>\n",
       "  </thead>\n",
       "  <tbody>\n",
       "    <tr>\n",
       "      <th>0</th>\n",
       "      <td>25</td>\n",
       "      <td>Private</td>\n",
       "      <td>226802</td>\n",
       "      <td>11th</td>\n",
       "      <td>7</td>\n",
       "      <td>Never-married</td>\n",
       "      <td>Machine-op-inspct</td>\n",
       "      <td>Own-child</td>\n",
       "      <td>Black</td>\n",
       "      <td>Male</td>\n",
       "      <td>0</td>\n",
       "      <td>0</td>\n",
       "      <td>40</td>\n",
       "      <td>United-States</td>\n",
       "      <td>&lt;=50K</td>\n",
       "    </tr>\n",
       "    <tr>\n",
       "      <th>1</th>\n",
       "      <td>38</td>\n",
       "      <td>Private</td>\n",
       "      <td>89814</td>\n",
       "      <td>HS-grad</td>\n",
       "      <td>9</td>\n",
       "      <td>Married-civ-spouse</td>\n",
       "      <td>Farming-fishing</td>\n",
       "      <td>Husband</td>\n",
       "      <td>White</td>\n",
       "      <td>Male</td>\n",
       "      <td>0</td>\n",
       "      <td>0</td>\n",
       "      <td>50</td>\n",
       "      <td>United-States</td>\n",
       "      <td>&lt;=50K</td>\n",
       "    </tr>\n",
       "    <tr>\n",
       "      <th>2</th>\n",
       "      <td>28</td>\n",
       "      <td>Local-gov</td>\n",
       "      <td>336951</td>\n",
       "      <td>Assoc-acdm</td>\n",
       "      <td>12</td>\n",
       "      <td>Married-civ-spouse</td>\n",
       "      <td>Protective-serv</td>\n",
       "      <td>Husband</td>\n",
       "      <td>White</td>\n",
       "      <td>Male</td>\n",
       "      <td>0</td>\n",
       "      <td>0</td>\n",
       "      <td>40</td>\n",
       "      <td>United-States</td>\n",
       "      <td>&gt;50K</td>\n",
       "    </tr>\n",
       "    <tr>\n",
       "      <th>3</th>\n",
       "      <td>44</td>\n",
       "      <td>Private</td>\n",
       "      <td>160323</td>\n",
       "      <td>Some-college</td>\n",
       "      <td>10</td>\n",
       "      <td>Married-civ-spouse</td>\n",
       "      <td>Machine-op-inspct</td>\n",
       "      <td>Husband</td>\n",
       "      <td>Black</td>\n",
       "      <td>Male</td>\n",
       "      <td>7688</td>\n",
       "      <td>0</td>\n",
       "      <td>40</td>\n",
       "      <td>United-States</td>\n",
       "      <td>&gt;50K</td>\n",
       "    </tr>\n",
       "    <tr>\n",
       "      <th>4</th>\n",
       "      <td>18</td>\n",
       "      <td>?</td>\n",
       "      <td>103497</td>\n",
       "      <td>Some-college</td>\n",
       "      <td>10</td>\n",
       "      <td>Never-married</td>\n",
       "      <td>?</td>\n",
       "      <td>Own-child</td>\n",
       "      <td>White</td>\n",
       "      <td>Female</td>\n",
       "      <td>0</td>\n",
       "      <td>0</td>\n",
       "      <td>30</td>\n",
       "      <td>United-States</td>\n",
       "      <td>&lt;=50K</td>\n",
       "    </tr>\n",
       "  </tbody>\n",
       "</table>\n",
       "</div>"
      ],
      "text/plain": [
       "   age  workclass  fnlwgt     education  educational-num      marital-status   \n",
       "0   25    Private  226802          11th                7       Never-married  \\\n",
       "1   38    Private   89814       HS-grad                9  Married-civ-spouse   \n",
       "2   28  Local-gov  336951    Assoc-acdm               12  Married-civ-spouse   \n",
       "3   44    Private  160323  Some-college               10  Married-civ-spouse   \n",
       "4   18          ?  103497  Some-college               10       Never-married   \n",
       "\n",
       "          occupation relationship   race  gender  capital-gain  capital-loss   \n",
       "0  Machine-op-inspct    Own-child  Black    Male             0             0  \\\n",
       "1    Farming-fishing      Husband  White    Male             0             0   \n",
       "2    Protective-serv      Husband  White    Male             0             0   \n",
       "3  Machine-op-inspct      Husband  Black    Male          7688             0   \n",
       "4                  ?    Own-child  White  Female             0             0   \n",
       "\n",
       "   hours-per-week native-country income  \n",
       "0              40  United-States  <=50K  \n",
       "1              50  United-States  <=50K  \n",
       "2              40  United-States   >50K  \n",
       "3              40  United-States   >50K  \n",
       "4              30  United-States  <=50K  "
      ]
     },
     "execution_count": 3,
     "metadata": {},
     "output_type": "execute_result"
    }
   ],
   "source": [
    "#import dataset as ds\n",
    "#path = 'C:/Users/evafi/bayes_xml/dataset/adult_income_dataset.csv'\n",
<<<<<<< HEAD
    "#path = '/Users/fabian/Desktop/datasets/adult.csv'\n",
    "#path = 'C:\\\\Users\\\\Natal\\\\Documents\\\\Wirtschaftsinformatik_Master\\\\2.Semester_WS2023-24\\\\Explainable Machine Learning\\\\Prüfungsleistung\\\\adult income dataset.csv'\n",
    "\n",
=======
    "path = '/Users/fabian/Desktop/datasets/adult.csv'\n",
>>>>>>> 9e524e9a2ff1e9a3e9f07aa9bbcb56b6dc1d7f84
    "data = pd.read_csv(path, sep=\",\")\n",
    "data2 = data\n",
    "\n",
    "#top 5 of each column\n",
    "data.head()"
   ]
  },
  {
   "cell_type": "markdown",
   "metadata": {},
   "source": [
    "<h2> Analyze the dataset"
   ]
  },
  {
   "cell_type": "code",
   "execution_count": 4,
   "metadata": {},
   "outputs": [
    {
     "data": {
      "text/plain": [
       "(48842, 15)"
      ]
     },
     "execution_count": 4,
     "metadata": {},
     "output_type": "execute_result"
    }
   ],
   "source": [
    "# shape dataset\n",
    "#numer of rows and columns/ features\n",
    "data.shape"
   ]
  },
  {
   "cell_type": "code",
   "execution_count": 5,
   "metadata": {},
   "outputs": [
    {
     "name": "stdout",
     "output_type": "stream",
     "text": [
      "Total numbber of records: 48842\n",
      "Individuals making more than $50.000: 11687\n",
      "Individuals making at most $50.000: 37155\n",
      "Percentage of individuals making more than $50.000: 23.928176569346054%\n"
     ]
    }
   ],
   "source": [
    "#data analysis\n",
    "n_records = data.shape[0]\n",
    "n_greater_50k = data[data['income'] == '>50K'].shape[0]\n",
    "n_at_most_50k = data[data['income'] == '<=50K'].shape[0]\n",
    "greater_percent = (n_greater_50k / n_records) * 100\n",
    "print(\"Total numbber of records: {}\".format(n_records))\n",
    "print(\"Individuals making more than $50.000: {}\".format(n_greater_50k))\n",
    "print(\"Individuals making at most $50.000: {}\".format(n_at_most_50k))\n",
    "print(\"Percentage of individuals making more than $50.000: {}%\".format(greater_percent))"
   ]
  },
  {
   "cell_type": "code",
   "execution_count": 6,
   "metadata": {},
   "outputs": [
    {
     "data": {
      "text/plain": [
       "Index(['age', 'workclass', 'fnlwgt', 'education', 'education_num',\n",
       "       'marital_status', 'occupation', 'relationship', 'race', 'sex',\n",
       "       'capital_gain', 'capital_loss', 'hours_per_week', 'native_country',\n",
       "       'income'],\n",
       "      dtype='object')"
      ]
     },
     "execution_count": 6,
     "metadata": {},
     "output_type": "execute_result"
    }
   ],
   "source": [
    "#rename column names\n",
    "col_names = ['age', 'workclass', 'fnlwgt', 'education', 'education_num', 'marital_status', 'occupation', 'relationship',\n",
    "             'race', 'sex', 'capital_gain', 'capital_loss', 'hours_per_week', 'native_country', 'income']\n",
    "data.columns = col_names\n",
    "data.columns"
   ]
  },
  {
   "cell_type": "code",
   "execution_count": 7,
   "metadata": {},
   "outputs": [
    {
     "name": "stdout",
     "output_type": "stream",
     "text": [
      "<class 'pandas.core.frame.DataFrame'>\n",
      "RangeIndex: 48842 entries, 0 to 48841\n",
      "Data columns (total 15 columns):\n",
      " #   Column          Non-Null Count  Dtype \n",
      "---  ------          --------------  ----- \n",
      " 0   age             48842 non-null  int64 \n",
      " 1   workclass       48842 non-null  object\n",
      " 2   fnlwgt          48842 non-null  int64 \n",
      " 3   education       48842 non-null  object\n",
      " 4   education_num   48842 non-null  int64 \n",
      " 5   marital_status  48842 non-null  object\n",
      " 6   occupation      48842 non-null  object\n",
      " 7   relationship    48842 non-null  object\n",
      " 8   race            48842 non-null  object\n",
      " 9   sex             48842 non-null  object\n",
      " 10  capital_gain    48842 non-null  int64 \n",
      " 11  capital_loss    48842 non-null  int64 \n",
      " 12  hours_per_week  48842 non-null  int64 \n",
      " 13  native_country  48842 non-null  object\n",
      " 14  income          48842 non-null  object\n",
      "dtypes: int64(6), object(9)\n",
      "memory usage: 5.6+ MB\n"
     ]
    }
   ],
   "source": [
    "# general inforamtion\n",
    "data.info()"
   ]
  },
  {
   "cell_type": "code",
   "execution_count": 8,
   "metadata": {},
   "outputs": [
    {
     "data": {
      "text/html": [
       "<div>\n",
       "<style scoped>\n",
       "    .dataframe tbody tr th:only-of-type {\n",
       "        vertical-align: middle;\n",
       "    }\n",
       "\n",
       "    .dataframe tbody tr th {\n",
       "        vertical-align: top;\n",
       "    }\n",
       "\n",
       "    .dataframe thead th {\n",
       "        text-align: right;\n",
       "    }\n",
       "</style>\n",
       "<table border=\"1\" class=\"dataframe\">\n",
       "  <thead>\n",
       "    <tr style=\"text-align: right;\">\n",
       "      <th></th>\n",
       "      <th>age</th>\n",
       "      <th>workclass</th>\n",
       "      <th>fnlwgt</th>\n",
       "      <th>education</th>\n",
       "      <th>education_num</th>\n",
       "      <th>marital_status</th>\n",
       "      <th>occupation</th>\n",
       "      <th>relationship</th>\n",
       "      <th>race</th>\n",
       "      <th>sex</th>\n",
       "      <th>capital_gain</th>\n",
       "      <th>capital_loss</th>\n",
       "      <th>hours_per_week</th>\n",
       "      <th>native_country</th>\n",
       "      <th>income</th>\n",
       "    </tr>\n",
       "  </thead>\n",
       "  <tbody>\n",
       "    <tr>\n",
       "      <th>count</th>\n",
       "      <td>48842.000000</td>\n",
       "      <td>48842</td>\n",
       "      <td>4.884200e+04</td>\n",
       "      <td>48842</td>\n",
       "      <td>48842.000000</td>\n",
       "      <td>48842</td>\n",
       "      <td>48842</td>\n",
       "      <td>48842</td>\n",
       "      <td>48842</td>\n",
       "      <td>48842</td>\n",
       "      <td>48842.000000</td>\n",
       "      <td>48842.000000</td>\n",
       "      <td>48842.000000</td>\n",
       "      <td>48842</td>\n",
       "      <td>48842</td>\n",
       "    </tr>\n",
       "    <tr>\n",
       "      <th>unique</th>\n",
       "      <td>NaN</td>\n",
       "      <td>9</td>\n",
       "      <td>NaN</td>\n",
       "      <td>16</td>\n",
       "      <td>NaN</td>\n",
       "      <td>7</td>\n",
       "      <td>15</td>\n",
       "      <td>6</td>\n",
       "      <td>5</td>\n",
       "      <td>2</td>\n",
       "      <td>NaN</td>\n",
       "      <td>NaN</td>\n",
       "      <td>NaN</td>\n",
       "      <td>42</td>\n",
       "      <td>2</td>\n",
       "    </tr>\n",
       "    <tr>\n",
       "      <th>top</th>\n",
       "      <td>NaN</td>\n",
       "      <td>Private</td>\n",
       "      <td>NaN</td>\n",
       "      <td>HS-grad</td>\n",
       "      <td>NaN</td>\n",
       "      <td>Married-civ-spouse</td>\n",
       "      <td>Prof-specialty</td>\n",
       "      <td>Husband</td>\n",
       "      <td>White</td>\n",
       "      <td>Male</td>\n",
       "      <td>NaN</td>\n",
       "      <td>NaN</td>\n",
       "      <td>NaN</td>\n",
       "      <td>United-States</td>\n",
       "      <td>&lt;=50K</td>\n",
       "    </tr>\n",
       "    <tr>\n",
       "      <th>freq</th>\n",
       "      <td>NaN</td>\n",
       "      <td>33906</td>\n",
       "      <td>NaN</td>\n",
       "      <td>15784</td>\n",
       "      <td>NaN</td>\n",
       "      <td>22379</td>\n",
       "      <td>6172</td>\n",
       "      <td>19716</td>\n",
       "      <td>41762</td>\n",
       "      <td>32650</td>\n",
       "      <td>NaN</td>\n",
       "      <td>NaN</td>\n",
       "      <td>NaN</td>\n",
       "      <td>43832</td>\n",
       "      <td>37155</td>\n",
       "    </tr>\n",
       "    <tr>\n",
       "      <th>mean</th>\n",
       "      <td>38.643585</td>\n",
       "      <td>NaN</td>\n",
       "      <td>1.896641e+05</td>\n",
       "      <td>NaN</td>\n",
       "      <td>10.078089</td>\n",
       "      <td>NaN</td>\n",
       "      <td>NaN</td>\n",
       "      <td>NaN</td>\n",
       "      <td>NaN</td>\n",
       "      <td>NaN</td>\n",
       "      <td>1079.067626</td>\n",
       "      <td>87.502314</td>\n",
       "      <td>40.422382</td>\n",
       "      <td>NaN</td>\n",
       "      <td>NaN</td>\n",
       "    </tr>\n",
       "    <tr>\n",
       "      <th>std</th>\n",
       "      <td>13.710510</td>\n",
       "      <td>NaN</td>\n",
       "      <td>1.056040e+05</td>\n",
       "      <td>NaN</td>\n",
       "      <td>2.570973</td>\n",
       "      <td>NaN</td>\n",
       "      <td>NaN</td>\n",
       "      <td>NaN</td>\n",
       "      <td>NaN</td>\n",
       "      <td>NaN</td>\n",
       "      <td>7452.019058</td>\n",
       "      <td>403.004552</td>\n",
       "      <td>12.391444</td>\n",
       "      <td>NaN</td>\n",
       "      <td>NaN</td>\n",
       "    </tr>\n",
       "    <tr>\n",
       "      <th>min</th>\n",
       "      <td>17.000000</td>\n",
       "      <td>NaN</td>\n",
       "      <td>1.228500e+04</td>\n",
       "      <td>NaN</td>\n",
       "      <td>1.000000</td>\n",
       "      <td>NaN</td>\n",
       "      <td>NaN</td>\n",
       "      <td>NaN</td>\n",
       "      <td>NaN</td>\n",
       "      <td>NaN</td>\n",
       "      <td>0.000000</td>\n",
       "      <td>0.000000</td>\n",
       "      <td>1.000000</td>\n",
       "      <td>NaN</td>\n",
       "      <td>NaN</td>\n",
       "    </tr>\n",
       "    <tr>\n",
       "      <th>25%</th>\n",
       "      <td>28.000000</td>\n",
       "      <td>NaN</td>\n",
       "      <td>1.175505e+05</td>\n",
       "      <td>NaN</td>\n",
       "      <td>9.000000</td>\n",
       "      <td>NaN</td>\n",
       "      <td>NaN</td>\n",
       "      <td>NaN</td>\n",
       "      <td>NaN</td>\n",
       "      <td>NaN</td>\n",
       "      <td>0.000000</td>\n",
       "      <td>0.000000</td>\n",
       "      <td>40.000000</td>\n",
       "      <td>NaN</td>\n",
       "      <td>NaN</td>\n",
       "    </tr>\n",
       "    <tr>\n",
       "      <th>50%</th>\n",
       "      <td>37.000000</td>\n",
       "      <td>NaN</td>\n",
       "      <td>1.781445e+05</td>\n",
       "      <td>NaN</td>\n",
       "      <td>10.000000</td>\n",
       "      <td>NaN</td>\n",
       "      <td>NaN</td>\n",
       "      <td>NaN</td>\n",
       "      <td>NaN</td>\n",
       "      <td>NaN</td>\n",
       "      <td>0.000000</td>\n",
       "      <td>0.000000</td>\n",
       "      <td>40.000000</td>\n",
       "      <td>NaN</td>\n",
       "      <td>NaN</td>\n",
       "    </tr>\n",
       "    <tr>\n",
       "      <th>75%</th>\n",
       "      <td>48.000000</td>\n",
       "      <td>NaN</td>\n",
       "      <td>2.376420e+05</td>\n",
       "      <td>NaN</td>\n",
       "      <td>12.000000</td>\n",
       "      <td>NaN</td>\n",
       "      <td>NaN</td>\n",
       "      <td>NaN</td>\n",
       "      <td>NaN</td>\n",
       "      <td>NaN</td>\n",
       "      <td>0.000000</td>\n",
       "      <td>0.000000</td>\n",
       "      <td>45.000000</td>\n",
       "      <td>NaN</td>\n",
       "      <td>NaN</td>\n",
       "    </tr>\n",
       "    <tr>\n",
       "      <th>max</th>\n",
       "      <td>90.000000</td>\n",
       "      <td>NaN</td>\n",
       "      <td>1.490400e+06</td>\n",
       "      <td>NaN</td>\n",
       "      <td>16.000000</td>\n",
       "      <td>NaN</td>\n",
       "      <td>NaN</td>\n",
       "      <td>NaN</td>\n",
       "      <td>NaN</td>\n",
       "      <td>NaN</td>\n",
       "      <td>99999.000000</td>\n",
       "      <td>4356.000000</td>\n",
       "      <td>99.000000</td>\n",
       "      <td>NaN</td>\n",
       "      <td>NaN</td>\n",
       "    </tr>\n",
       "  </tbody>\n",
       "</table>\n",
       "</div>"
      ],
      "text/plain": [
       "                 age workclass        fnlwgt education  education_num   \n",
       "count   48842.000000     48842  4.884200e+04     48842   48842.000000  \\\n",
       "unique           NaN         9           NaN        16            NaN   \n",
       "top              NaN   Private           NaN   HS-grad            NaN   \n",
       "freq             NaN     33906           NaN     15784            NaN   \n",
       "mean       38.643585       NaN  1.896641e+05       NaN      10.078089   \n",
       "std        13.710510       NaN  1.056040e+05       NaN       2.570973   \n",
       "min        17.000000       NaN  1.228500e+04       NaN       1.000000   \n",
       "25%        28.000000       NaN  1.175505e+05       NaN       9.000000   \n",
       "50%        37.000000       NaN  1.781445e+05       NaN      10.000000   \n",
       "75%        48.000000       NaN  2.376420e+05       NaN      12.000000   \n",
       "max        90.000000       NaN  1.490400e+06       NaN      16.000000   \n",
       "\n",
       "            marital_status      occupation relationship   race    sex   \n",
       "count                48842           48842        48842  48842  48842  \\\n",
       "unique                   7              15            6      5      2   \n",
       "top     Married-civ-spouse  Prof-specialty      Husband  White   Male   \n",
       "freq                 22379            6172        19716  41762  32650   \n",
       "mean                   NaN             NaN          NaN    NaN    NaN   \n",
       "std                    NaN             NaN          NaN    NaN    NaN   \n",
       "min                    NaN             NaN          NaN    NaN    NaN   \n",
       "25%                    NaN             NaN          NaN    NaN    NaN   \n",
       "50%                    NaN             NaN          NaN    NaN    NaN   \n",
       "75%                    NaN             NaN          NaN    NaN    NaN   \n",
       "max                    NaN             NaN          NaN    NaN    NaN   \n",
       "\n",
       "        capital_gain  capital_loss  hours_per_week native_country income  \n",
       "count   48842.000000  48842.000000    48842.000000          48842  48842  \n",
       "unique           NaN           NaN             NaN             42      2  \n",
       "top              NaN           NaN             NaN  United-States  <=50K  \n",
       "freq             NaN           NaN             NaN          43832  37155  \n",
       "mean     1079.067626     87.502314       40.422382            NaN    NaN  \n",
       "std      7452.019058    403.004552       12.391444            NaN    NaN  \n",
       "min         0.000000      0.000000        1.000000            NaN    NaN  \n",
       "25%         0.000000      0.000000       40.000000            NaN    NaN  \n",
       "50%         0.000000      0.000000       40.000000            NaN    NaN  \n",
       "75%         0.000000      0.000000       45.000000            NaN    NaN  \n",
       "max     99999.000000   4356.000000       99.000000            NaN    NaN  "
      ]
     },
     "execution_count": 8,
     "metadata": {},
     "output_type": "execute_result"
    }
   ],
   "source": [
    "#Overview of the data\n",
    "data.describe(include='all')"
   ]
  },
  {
   "cell_type": "markdown",
   "metadata": {},
   "source": [
    "<h2>Preprocessing the data"
   ]
  },
  {
   "cell_type": "markdown",
   "metadata": {},
   "source": [
    "<h4> Check values in each variable and replace them / Dealing with missing values"
   ]
  },
  {
   "cell_type": "code",
   "execution_count": 9,
   "metadata": {},
   "outputs": [
    {
     "name": "stdout",
     "output_type": "stream",
     "text": [
      "workclass\n",
      "2799\n",
      "5.73%\n",
      "occupation\n",
      "2809\n",
      "5.75%\n",
      "native_country\n",
      "857\n",
      "1.75%\n"
     ]
    }
   ],
   "source": [
    "#check \"?\" in dataset\n",
    "\n",
    "col_n = data.columns\n",
    "num_data = data.shape[0]\n",
    "for c in col_n:\n",
    "    num_non = data[c].isin([\"?\"]).sum()\n",
    "    if num_non > 0:\n",
    "        print(c)\n",
    "        print(num_non)\n",
    "        print(\"{0:.2f}%\".format(float(num_non) / num_data * 100))"
   ]
  },
  {
   "cell_type": "code",
   "execution_count": 10,
   "metadata": {},
   "outputs": [],
   "source": [
    "# replace '?' values in workclass variable with `NaN`\n",
    "data['workclass'].replace('?', np.NaN, inplace=True)\n",
    "\n",
    "# replace '?' values in occupation variable with `NaN`\n",
    "data['occupation'].replace('?', np.NaN, inplace=True)\n",
    "\n",
    "# replace '?' values in native_country variable with `NaN`\n",
    "data['native_country'].replace('?', np.NaN, inplace=True)\n",
    "\n",
    "# impute missing categorical variables with most frequent value\n",
    "\n",
    "# Fill missing values in 'workclass' column with mode\n",
    "mode_workclass = data['workclass'].mode()[0]\n",
    "data['workclass'].fillna(mode_workclass, inplace=True)\n",
    "\n",
    "# Fill missing values in 'occupation' column with mode\n",
    "mode_occupation = data['occupation'].mode()[0]\n",
    "data['occupation'].fillna(mode_occupation, inplace=True)\n",
    "\n",
    "# Fill missing values in 'native.country' column with mode\n",
    "mode_native_country = data['native_country'].mode()[0]\n",
    "data['native_country'].fillna(mode_native_country, inplace=True)"
   ]
  },
  {
   "cell_type": "code",
   "execution_count": 11,
   "metadata": {},
   "outputs": [
    {
     "data": {
      "text/plain": [
       "age               0\n",
       "workclass         0\n",
       "fnlwgt            0\n",
       "education         0\n",
       "education_num     0\n",
       "marital_status    0\n",
       "occupation        0\n",
       "relationship      0\n",
       "race              0\n",
       "sex               0\n",
       "capital_gain      0\n",
       "capital_loss      0\n",
       "hours_per_week    0\n",
       "native_country    0\n",
       "income            0\n",
       "dtype: int64"
      ]
     },
     "execution_count": 11,
     "metadata": {},
     "output_type": "execute_result"
    }
   ],
   "source": [
    "# Check for missing values again\n",
    "data.isnull().sum()"
   ]
  },
  {
   "cell_type": "code",
   "execution_count": 12,
   "metadata": {},
   "outputs": [
    {
     "data": {
      "text/html": [
       "<div>\n",
       "<style scoped>\n",
       "    .dataframe tbody tr th:only-of-type {\n",
       "        vertical-align: middle;\n",
       "    }\n",
       "\n",
       "    .dataframe tbody tr th {\n",
       "        vertical-align: top;\n",
       "    }\n",
       "\n",
       "    .dataframe thead th {\n",
       "        text-align: right;\n",
       "    }\n",
       "</style>\n",
       "<table border=\"1\" class=\"dataframe\">\n",
       "  <thead>\n",
       "    <tr style=\"text-align: right;\">\n",
       "      <th></th>\n",
       "      <th>workclass</th>\n",
       "      <th>education</th>\n",
       "      <th>marital_status</th>\n",
       "      <th>occupation</th>\n",
       "      <th>relationship</th>\n",
       "      <th>race</th>\n",
       "      <th>sex</th>\n",
       "      <th>native_country</th>\n",
       "      <th>income</th>\n",
       "    </tr>\n",
       "  </thead>\n",
       "  <tbody>\n",
       "    <tr>\n",
       "      <th>0</th>\n",
       "      <td>Private</td>\n",
       "      <td>11th</td>\n",
       "      <td>Never-married</td>\n",
       "      <td>Machine-op-inspct</td>\n",
       "      <td>Own-child</td>\n",
       "      <td>Black</td>\n",
       "      <td>Male</td>\n",
       "      <td>United-States</td>\n",
       "      <td>&lt;=50K</td>\n",
       "    </tr>\n",
       "    <tr>\n",
       "      <th>1</th>\n",
       "      <td>Private</td>\n",
       "      <td>HS-grad</td>\n",
       "      <td>Married-civ-spouse</td>\n",
       "      <td>Farming-fishing</td>\n",
       "      <td>Husband</td>\n",
       "      <td>White</td>\n",
       "      <td>Male</td>\n",
       "      <td>United-States</td>\n",
       "      <td>&lt;=50K</td>\n",
       "    </tr>\n",
       "    <tr>\n",
       "      <th>2</th>\n",
       "      <td>Local-gov</td>\n",
       "      <td>Assoc-acdm</td>\n",
       "      <td>Married-civ-spouse</td>\n",
       "      <td>Protective-serv</td>\n",
       "      <td>Husband</td>\n",
       "      <td>White</td>\n",
       "      <td>Male</td>\n",
       "      <td>United-States</td>\n",
       "      <td>&gt;50K</td>\n",
       "    </tr>\n",
       "    <tr>\n",
       "      <th>3</th>\n",
       "      <td>Private</td>\n",
       "      <td>Some-college</td>\n",
       "      <td>Married-civ-spouse</td>\n",
       "      <td>Machine-op-inspct</td>\n",
       "      <td>Husband</td>\n",
       "      <td>Black</td>\n",
       "      <td>Male</td>\n",
       "      <td>United-States</td>\n",
       "      <td>&gt;50K</td>\n",
       "    </tr>\n",
       "    <tr>\n",
       "      <th>4</th>\n",
       "      <td>Private</td>\n",
       "      <td>Some-college</td>\n",
       "      <td>Never-married</td>\n",
       "      <td>Prof-specialty</td>\n",
       "      <td>Own-child</td>\n",
       "      <td>White</td>\n",
       "      <td>Female</td>\n",
       "      <td>United-States</td>\n",
       "      <td>&lt;=50K</td>\n",
       "    </tr>\n",
       "  </tbody>\n",
       "</table>\n",
       "</div>"
      ],
      "text/plain": [
       "   workclass     education      marital_status         occupation   \n",
       "0    Private          11th       Never-married  Machine-op-inspct  \\\n",
       "1    Private       HS-grad  Married-civ-spouse    Farming-fishing   \n",
       "2  Local-gov    Assoc-acdm  Married-civ-spouse    Protective-serv   \n",
       "3    Private  Some-college  Married-civ-spouse  Machine-op-inspct   \n",
       "4    Private  Some-college       Never-married     Prof-specialty   \n",
       "\n",
       "  relationship   race     sex native_country income  \n",
       "0    Own-child  Black    Male  United-States  <=50K  \n",
       "1      Husband  White    Male  United-States  <=50K  \n",
       "2      Husband  White    Male  United-States   >50K  \n",
       "3      Husband  Black    Male  United-States   >50K  \n",
       "4    Own-child  White  Female  United-States  <=50K  "
      ]
     },
     "execution_count": 12,
     "metadata": {},
     "output_type": "execute_result"
    }
   ],
   "source": [
    "# find categorical variables\n",
    "\n",
    "categorical = [var for var in data.columns if data[var].dtype=='O']\n",
    "\n",
    "data[categorical].head()"
   ]
  },
  {
   "cell_type": "code",
   "execution_count": 13,
   "metadata": {},
   "outputs": [
    {
     "data": {
      "text/plain": [
       "workclass         0\n",
       "education         0\n",
       "marital_status    0\n",
       "occupation        0\n",
       "relationship      0\n",
       "race              0\n",
       "sex               0\n",
       "native_country    0\n",
       "income            0\n",
       "dtype: int64"
      ]
     },
     "execution_count": 13,
     "metadata": {},
     "output_type": "execute_result"
    }
   ],
   "source": [
    "# check missing values in categorical variables\n",
    "\n",
    "data[categorical].isnull().sum()"
   ]
  },
  {
   "cell_type": "code",
   "execution_count": 14,
   "metadata": {},
   "outputs": [
    {
     "name": "stdout",
     "output_type": "stream",
     "text": [
      "workclass\n",
      "Private             36705\n",
      "Self-emp-not-inc     3862\n",
      "Local-gov            3136\n",
      "State-gov            1981\n",
      "Self-emp-inc         1695\n",
      "Federal-gov          1432\n",
      "Without-pay            21\n",
      "Never-worked           10\n",
      "Name: count, dtype: int64\n",
      "education\n",
      "HS-grad         15784\n",
      "Some-college    10878\n",
      "Bachelors        8025\n",
      "Masters          2657\n",
      "Assoc-voc        2061\n",
      "11th             1812\n",
      "Assoc-acdm       1601\n",
      "10th             1389\n",
      "7th-8th           955\n",
      "Prof-school       834\n",
      "9th               756\n",
      "12th              657\n",
      "Doctorate         594\n",
      "5th-6th           509\n",
      "1st-4th           247\n",
      "Preschool          83\n",
      "Name: count, dtype: int64\n",
      "marital_status\n",
      "Married-civ-spouse       22379\n",
      "Never-married            16117\n",
      "Divorced                  6633\n",
      "Separated                 1530\n",
      "Widowed                   1518\n",
      "Married-spouse-absent      628\n",
      "Married-AF-spouse           37\n",
      "Name: count, dtype: int64\n",
      "occupation\n",
      "Prof-specialty       8981\n",
      "Craft-repair         6112\n",
      "Exec-managerial      6086\n",
      "Adm-clerical         5611\n",
      "Sales                5504\n",
      "Other-service        4923\n",
      "Machine-op-inspct    3022\n",
      "Transport-moving     2355\n",
      "Handlers-cleaners    2072\n",
      "Farming-fishing      1490\n",
      "Tech-support         1446\n",
      "Protective-serv       983\n",
      "Priv-house-serv       242\n",
      "Armed-Forces           15\n",
      "Name: count, dtype: int64\n",
      "relationship\n",
      "Husband           19716\n",
      "Not-in-family     12583\n",
      "Own-child          7581\n",
      "Unmarried          5125\n",
      "Wife               2331\n",
      "Other-relative     1506\n",
      "Name: count, dtype: int64\n",
      "race\n",
      "White                 41762\n",
      "Black                  4685\n",
      "Asian-Pac-Islander     1519\n",
      "Amer-Indian-Eskimo      470\n",
      "Other                   406\n",
      "Name: count, dtype: int64\n",
      "sex\n",
      "Male      32650\n",
      "Female    16192\n",
      "Name: count, dtype: int64\n",
      "native_country\n",
      "United-States                 44689\n",
      "Mexico                          951\n",
      "Philippines                     295\n",
      "Germany                         206\n",
      "Puerto-Rico                     184\n",
      "Canada                          182\n",
      "El-Salvador                     155\n",
      "India                           151\n",
      "Cuba                            138\n",
      "England                         127\n",
      "China                           122\n",
      "South                           115\n",
      "Jamaica                         106\n",
      "Italy                           105\n",
      "Dominican-Republic              103\n",
      "Japan                            92\n",
      "Guatemala                        88\n",
      "Poland                           87\n",
      "Vietnam                          86\n",
      "Columbia                         85\n",
      "Haiti                            75\n",
      "Portugal                         67\n",
      "Taiwan                           65\n",
      "Iran                             59\n",
      "Greece                           49\n",
      "Nicaragua                        49\n",
      "Peru                             46\n",
      "Ecuador                          45\n",
      "France                           38\n",
      "Ireland                          37\n",
      "Hong                             30\n",
      "Thailand                         30\n",
      "Cambodia                         28\n",
      "Trinadad&Tobago                  27\n",
      "Yugoslavia                       23\n",
      "Outlying-US(Guam-USVI-etc)       23\n",
      "Laos                             23\n",
      "Scotland                         21\n",
      "Honduras                         20\n",
      "Hungary                          19\n",
      "Holand-Netherlands                1\n",
      "Name: count, dtype: int64\n",
      "income\n",
      "<=50K    37155\n",
      ">50K     11687\n",
      "Name: count, dtype: int64\n"
     ]
    }
   ],
   "source": [
    "# view frequency counts of values in categorical variables\n",
    "\n",
    "for var in categorical: \n",
    "    print(data[var].value_counts())"
   ]
  },
  {
   "cell_type": "markdown",
   "metadata": {},
   "source": [
    "<h4> Normalization"
   ]
  },
  {
   "cell_type": "code",
   "execution_count": 15,
   "metadata": {},
   "outputs": [
    {
     "name": "stdout",
     "output_type": "stream",
     "text": [
      "workclass  contains  8  labels\n",
      "education  contains  16  labels\n",
      "marital_status  contains  7  labels\n",
      "occupation  contains  14  labels\n",
      "relationship  contains  6  labels\n",
      "race  contains  5  labels\n",
      "sex  contains  2  labels\n",
      "native_country  contains  41  labels\n",
      "income  contains  2  labels\n"
     ]
    }
   ],
   "source": [
    "# check for cardinality in categorical variables\n",
    "for var in categorical:\n",
    "    print(var, ' contains ', len(data[var].unique()), ' labels')"
   ]
  },
  {
   "cell_type": "code",
   "execution_count": 16,
   "metadata": {},
   "outputs": [
    {
     "name": "stdout",
     "output_type": "stream",
     "text": [
      "There are 6 numerical variables\n",
      "\n",
      "The numerical variables are : ['age', 'fnlwgt', 'education_num', 'capital_gain', 'capital_loss', 'hours_per_week']\n"
     ]
    }
   ],
   "source": [
    "# get numerical variables\n",
    "numerical = [var for var in data.columns if data[var].dtype!='O']\n",
    "print('There are {} numerical variables\\n'.format(len(numerical)))\n",
    "print('The numerical variables are :', numerical)"
   ]
  },
  {
   "cell_type": "code",
   "execution_count": 17,
   "metadata": {},
   "outputs": [],
   "source": [
    "# Convert columns with numerical data to numeric data type\n",
    "numerical_cols = ['age', 'fnlwgt', 'education_num', 'capital_gain', 'capital_loss', 'hours_per_week']\n",
    "data[numerical_cols] = data[numerical_cols].apply(pd.to_numeric)"
   ]
  },
  {
   "cell_type": "code",
   "execution_count": 18,
   "metadata": {},
   "outputs": [],
   "source": [
    "# Drop unnecessary columns\n",
    "#data.drop(['fnlwgt'], axis=1, inplace=True)\n",
    "#erstmal weglassen"
   ]
  },
  {
   "cell_type": "code",
   "execution_count": 19,
   "metadata": {},
   "outputs": [
    {
     "data": {
      "text/html": [
       "<div>\n",
       "<style scoped>\n",
       "    .dataframe tbody tr th:only-of-type {\n",
       "        vertical-align: middle;\n",
       "    }\n",
       "\n",
       "    .dataframe tbody tr th {\n",
       "        vertical-align: top;\n",
       "    }\n",
       "\n",
       "    .dataframe thead th {\n",
       "        text-align: right;\n",
       "    }\n",
       "</style>\n",
       "<table border=\"1\" class=\"dataframe\">\n",
       "  <thead>\n",
       "    <tr style=\"text-align: right;\">\n",
       "      <th></th>\n",
       "      <th>age</th>\n",
       "      <th>fnlwgt</th>\n",
       "      <th>education_num</th>\n",
       "      <th>capital_gain</th>\n",
       "      <th>capital_loss</th>\n",
       "      <th>hours_per_week</th>\n",
       "    </tr>\n",
       "  </thead>\n",
       "  <tbody>\n",
       "    <tr>\n",
       "      <th>0</th>\n",
       "      <td>25</td>\n",
       "      <td>226802</td>\n",
       "      <td>7</td>\n",
       "      <td>0</td>\n",
       "      <td>0</td>\n",
       "      <td>40</td>\n",
       "    </tr>\n",
       "    <tr>\n",
       "      <th>1</th>\n",
       "      <td>38</td>\n",
       "      <td>89814</td>\n",
       "      <td>9</td>\n",
       "      <td>0</td>\n",
       "      <td>0</td>\n",
       "      <td>50</td>\n",
       "    </tr>\n",
       "    <tr>\n",
       "      <th>2</th>\n",
       "      <td>28</td>\n",
       "      <td>336951</td>\n",
       "      <td>12</td>\n",
       "      <td>0</td>\n",
       "      <td>0</td>\n",
       "      <td>40</td>\n",
       "    </tr>\n",
       "    <tr>\n",
       "      <th>3</th>\n",
       "      <td>44</td>\n",
       "      <td>160323</td>\n",
       "      <td>10</td>\n",
       "      <td>7688</td>\n",
       "      <td>0</td>\n",
       "      <td>40</td>\n",
       "    </tr>\n",
       "    <tr>\n",
       "      <th>4</th>\n",
       "      <td>18</td>\n",
       "      <td>103497</td>\n",
       "      <td>10</td>\n",
       "      <td>0</td>\n",
       "      <td>0</td>\n",
       "      <td>30</td>\n",
       "    </tr>\n",
       "    <tr>\n",
       "      <th>...</th>\n",
       "      <td>...</td>\n",
       "      <td>...</td>\n",
       "      <td>...</td>\n",
       "      <td>...</td>\n",
       "      <td>...</td>\n",
       "      <td>...</td>\n",
       "    </tr>\n",
       "    <tr>\n",
       "      <th>48837</th>\n",
       "      <td>27</td>\n",
       "      <td>257302</td>\n",
       "      <td>12</td>\n",
       "      <td>0</td>\n",
       "      <td>0</td>\n",
       "      <td>38</td>\n",
       "    </tr>\n",
       "    <tr>\n",
       "      <th>48838</th>\n",
       "      <td>40</td>\n",
       "      <td>154374</td>\n",
       "      <td>9</td>\n",
       "      <td>0</td>\n",
       "      <td>0</td>\n",
       "      <td>40</td>\n",
       "    </tr>\n",
       "    <tr>\n",
       "      <th>48839</th>\n",
       "      <td>58</td>\n",
       "      <td>151910</td>\n",
       "      <td>9</td>\n",
       "      <td>0</td>\n",
       "      <td>0</td>\n",
       "      <td>40</td>\n",
       "    </tr>\n",
       "    <tr>\n",
       "      <th>48840</th>\n",
       "      <td>22</td>\n",
       "      <td>201490</td>\n",
       "      <td>9</td>\n",
       "      <td>0</td>\n",
       "      <td>0</td>\n",
       "      <td>20</td>\n",
       "    </tr>\n",
       "    <tr>\n",
       "      <th>48841</th>\n",
       "      <td>52</td>\n",
       "      <td>287927</td>\n",
       "      <td>9</td>\n",
       "      <td>15024</td>\n",
       "      <td>0</td>\n",
       "      <td>40</td>\n",
       "    </tr>\n",
       "  </tbody>\n",
       "</table>\n",
       "<p>48842 rows × 6 columns</p>\n",
       "</div>"
      ],
      "text/plain": [
       "       age  fnlwgt  education_num  capital_gain  capital_loss  hours_per_week\n",
       "0       25  226802              7             0             0              40\n",
       "1       38   89814              9             0             0              50\n",
       "2       28  336951             12             0             0              40\n",
       "3       44  160323             10          7688             0              40\n",
       "4       18  103497             10             0             0              30\n",
       "...    ...     ...            ...           ...           ...             ...\n",
       "48837   27  257302             12             0             0              38\n",
       "48838   40  154374              9             0             0              40\n",
       "48839   58  151910              9             0             0              40\n",
       "48840   22  201490              9             0             0              20\n",
       "48841   52  287927              9         15024             0              40\n",
       "\n",
       "[48842 rows x 6 columns]"
      ]
     },
     "execution_count": 19,
     "metadata": {},
     "output_type": "execute_result"
    }
   ],
   "source": [
    "data[numerical_cols]"
   ]
  },
  {
   "cell_type": "code",
   "execution_count": 20,
   "metadata": {},
   "outputs": [
    {
     "name": "stdout",
     "output_type": "stream",
     "text": [
      "                     age    fnlwgt  education_num  capital_gain  capital_loss   \n",
      "age             1.000000 -0.076628       0.030940      0.077229      0.056944  \\\n",
      "fnlwgt         -0.076628  1.000000      -0.038761     -0.003706     -0.004366   \n",
      "education_num   0.030940 -0.038761       1.000000      0.125146      0.080972   \n",
      "capital_gain    0.077229 -0.003706       0.125146      1.000000     -0.031441   \n",
      "capital_loss    0.056944 -0.004366       0.080972     -0.031441      1.000000   \n",
      "hours_per_week  0.071558 -0.013519       0.143689      0.082157      0.054467   \n",
      "\n",
      "                hours_per_week  \n",
      "age                   0.071558  \n",
      "fnlwgt               -0.013519  \n",
      "education_num         0.143689  \n",
      "capital_gain          0.082157  \n",
      "capital_loss          0.054467  \n",
      "hours_per_week        1.000000  \n"
     ]
    }
   ],
   "source": [
    "corrmat = data[numerical_cols].corr()\n",
    "print(corrmat)"
   ]
  },
  {
   "cell_type": "code",
   "execution_count": 21,
   "metadata": {},
   "outputs": [
    {
     "data": {
      "text/plain": [
       "Text(0.5, 1.0, 'Correlation Heatmap')"
      ]
     },
     "execution_count": 21,
     "metadata": {},
     "output_type": "execute_result"
    },
    {
     "data": {
      "image/png": "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",
      "text/plain": [
       "<Figure size 1500x500 with 2 Axes>"
      ]
     },
     "metadata": {},
     "output_type": "display_data"
    }
   ],
   "source": [
    "plt.figure(figsize=(15,5))\n",
    "heatmap = sns.heatmap(corrmat, vmin=-1, vmax=1, annot=True)\n",
    "heatmap.set_title('Correlation Heatmap', fontdict={'fontsize':12}, pad=12)"
   ]
  },
  {
   "cell_type": "code",
   "execution_count": 22,
   "metadata": {},
   "outputs": [],
   "source": [
    "# Split the data into features and target label\n",
    "income_raw = data['income']\n",
    "features_raw = data.drop('income', axis = 1)"
   ]
  },
  {
   "cell_type": "code",
<<<<<<< HEAD
   "execution_count": 23,
=======
   "execution_count": 3,
   "metadata": {},
   "outputs": [
    {
     "data": {
      "text/plain": [
       "income\n",
       "<=50K    37155\n",
       ">50K     11687\n",
       "dtype: int64"
      ]
     },
     "execution_count": 3,
     "metadata": {},
     "output_type": "execute_result"
    }
   ],
   "source": [
    "data.groupby('income').size()"
   ]
  },
  {
   "cell_type": "code",
   "execution_count": 22,
>>>>>>> 9e524e9a2ff1e9a3e9f07aa9bbcb56b6dc1d7f84
   "metadata": {},
   "outputs": [
    {
     "data": {
      "image/png": "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",
      "text/plain": [
       "<Figure size 640x480 with 1 Axes>"
      ]
     },
     "metadata": {},
     "output_type": "display_data"
    },
    {
     "data": {
      "image/png": "iVBORw0KGgoAAAANSUhEUgAAAkQAAAHHCAYAAABeLEexAAAAOXRFWHRTb2Z0d2FyZQBNYXRwbG90bGliIHZlcnNpb24zLjguMCwgaHR0cHM6Ly9tYXRwbG90bGliLm9yZy81sbWrAAAACXBIWXMAAA9hAAAPYQGoP6dpAAA9DklEQVR4nO3deVyU9f7//yfKqgi4saUgaofFNbWUrNxIMjrViT5pR81cWvxgpfZRs8z1mN3quFWWp5NJi+bSt8XUVNzomGhK4VJoWhiWAqHBiCLr9fvj3JifI2qKAwNzPe6323W7Ndf7Pa95vZ1z8tnM+7rGxTAMQwAAACZWz9ENAAAAOBqBCAAAmB6BCAAAmB6BCAAAmB6BCAAAmB6BCAAAmB6BCAAAmB6BCAAAmB6BCAAAmB6BCIAkafr06XJxcamR1+rdu7d69+5tfbx9+3a5uLjo448/rpHXf/TRR9WqVasaea2qKigo0KhRoxQYGCgXFxeNHTvW0S0BTo1ABDihxMREubi4WA9PT08FBwcrNjZWr732ms6cOWOX1zlx4oSmT5+utLQ0u9Szp9rc29V46aWXlJiYqNGjR+uDDz7Q0KFD//Q5ZWVlCg4OlouLi7788ssa6BJwHq6ObgBA9Zk5c6bCwsJUUlKirKwsbd++XWPHjtW8efO0Zs0adezY0Tp3ypQpeu65566p/okTJzRjxgy1atVKnTt3vurnbdq06Zpepyqu1Nu///1vlZeXV3sP12Pr1q3q0aOHpk2bdk3POXnypFq1aqVly5ZpwIAB1dgh4FwIRIATGzBggLp162Z9PHnyZG3dulX33HOP7r33XqWnp8vLy0uS5OrqKlfX6v1Xwrlz59SgQQO5u7tX6+v8GTc3N4e+/tXIyclRVFTUNT3nww8/VJcuXTRs2DA9//zzOnv2rBo2bFhNHQLOha/MAJPp27evXnzxRf3yyy/68MMPrecvtYcoKSlJt912m/z8/OTt7a3w8HA9//zzkv677+fmm2+WJA0fPtz69VxiYqKk/+4Tat++vVJTU3XHHXeoQYMG1udevIeoQllZmZ5//nkFBgaqYcOGuvfee3X8+HGbOa1atdKjjz5a6bkX1vyz3i61h+js2bN69tln1bJlS3l4eCg8PFz//Oc/ZRiGzTwXFxeNGTNGn332mdq3by8PDw+1a9dOGzZsuPQf+EVycnI0cuRIBQQEyNPTU506ddJ7771nHa/YT5WRkaF169ZZez927NgV6xYWFurTTz/VoEGD9NBDD6mwsFCff/75JeeuXr1aUVFR8vT0VPv27fXpp59e8s+kvLxcCxYsULt27eTp6amAgAA98cQT+uOPP65qrUBdQiACTKhiP8qVvrr6/vvvdc8996ioqEgzZ87U3Llzde+99+rrr7+WJEVGRmrmzJmSpMcff1wffPCBPvjgA91xxx3WGqdOndKAAQPUuXNnLViwQH369LliX7Nnz9a6des0adIkPf3000pKSlJMTIwKCwuvaX1X09uFDMPQvffeq/nz5+uuu+7SvHnzFB4ergkTJmj8+PGV5u/YsUP/+7//q0GDBumVV17R+fPnFR8fr1OnTl2xr8LCQvXu3VsffPCBBg8erFdffVW+vr569NFHtXDhQmvvH3zwgZo1a6bOnTtbe2/evPkVa69Zs0YFBQUaNGiQAgMD1bt3by1btqzSvHXr1mngwIFyc3PTnDlz9MADD2jkyJFKTU2tNPeJJ57QhAkT1LNnTy1cuFDDhw/XsmXLFBsbq5KSkiv2A9Q5BgCns3TpUkOSsWfPnsvO8fX1NW666Sbr42nTphkX/ith/vz5hiTj999/v2yNPXv2GJKMpUuXVhrr1auXIclYvHjxJcd69eplfbxt2zZDknHDDTcYFovFen7VqlWGJGPhwoXWc6GhocawYcP+tOaVehs2bJgRGhpqffzZZ58Zkox//OMfNvMefPBBw8XFxTh69Kj1nCTD3d3d5ty+ffsMScbrr79e6bUutGDBAkOS8eGHH1rPFRcXG9HR0Ya3t7fN2kNDQ424uLgr1rvQPffcY/Ts2dP6+O233zZcXV2NnJwcm3kdOnQwWrRoYZw5c8Z6bvv27YYkmz+T//znP4YkY9myZTbP37BhwyXPA3UdnxABJuXt7X3Fq838/PwkSZ9//nmVNyB7eHho+PDhVz3/kUceUaNGjayPH3zwQQUFBWn9+vVVev2rtX79etWvX19PP/20zflnn31WhmFUumIrJiZGbdq0sT7u2LGjfHx89PPPP//p6wQGBurhhx+2nnNzc9PTTz+tgoICJScnV6n/U6dOaePGjTZ14+Pj5eLiolWrVlnPnThxQgcOHNAjjzwib29v6/levXqpQ4cONjVXr14tX19f3XnnncrNzbUeXbt2lbe3t7Zt21alXoHaikAEmFRBQYFN+LjYwIED1bNnT40aNUoBAQEaNGiQVq1adU3h6IYbbrimDdQ33nijzWMXFxe1bdv2T/fPXK9ffvlFwcHBlf48IiMjreMXCgkJqVSjcePGf7q35pdfftGNN96oevVs/9V7ude5WitXrlRJSYluuukmHT16VEePHtXp06fVvXt3m6/NKuq3bdu2Uo2Lzx05ckT5+fny9/dX8+bNbY6CggLl5ORUqVegtuIqM8CEfv31V+Xn51/yL8YKXl5e+uqrr7Rt2zatW7dOGzZs0MqVK9W3b19t2rRJ9evX/9PXqbiCzZ4ud/PIsrKyq+rJHi73OsZFG7BrSkXo6dmz5yXHf/75Z7Vu3fqaapaXl8vf3/+S+5Ak/emeJqCuIRABJvTBBx9IkmJjY684r169eurXr5/69eunefPm6aWXXtILL7ygbdu2KSYmxu53tj5y5IjNY8MwdPToUZv7JTVu3Fh5eXmVnvvLL7/Y/KV/Lb2FhoZq8+bNOnPmjM2nRIcOHbKO20NoaKj279+v8vJym0+Jrud1MjIytHPnTo0ZM0a9evWyGSsvL9fQoUO1fPlyTZkyxVr/6NGjlepcfK5NmzbavHmzevbsWS3BFqht+MoMMJmtW7dq1qxZCgsL0+DBgy877/Tp05XOVdzgsKioSJKs97i5VECpivfff99mX9PHH3+skydP2txgsE2bNtq1a5eKi4ut59auXVvp8vxr6e3uu+9WWVmZ3njjDZvz8+fPl4uLi91ucHj33XcrKytLK1eutJ4rLS3V66+/Lm9v70qB5mpUfIIzceJEPfjggzbHQw89pF69elnnBAcHq3379nr//fdVUFBgrZGcnKwDBw7Y1H3ooYdUVlamWbNmVXrN0tJSu73nQG3BJ0SAE/vyyy916NAhlZaWKjs7W1u3blVSUpJCQ0O1Zs0aeXp6Xva5M2fO1FdffaW4uDiFhoYqJydHb775plq0aKHbbrtN0n/DiZ+fnxYvXqxGjRqpYcOG6t69u8LCwqrUb5MmTXTbbbdp+PDhys7O1oIFC9S2bVs99thj1jmjRo3Sxx9/rLvuuksPPfSQfvrpJ3344Yc2m5yvtbe//vWv6tOnj1544QUdO3ZMnTp10qZNm/T5559r7NixlWpX1eOPP65//etfevTRR5WamqpWrVrp448/1tdff60FCxZccU/X5SxbtkydO3dWy5YtLzl+77336qmnntK3336rLl266KWXXtJ9992nnj17avjw4frjjz/0xhtvqH379jYhqVevXnriiSc0Z84cpaWlqX///nJzc9ORI0e0evVqLVy4UA8++GCV/yyAWsfBV7kBqAYVl91XHO7u7kZgYKBx5513GgsXLrS5vLvCxZfdb9myxbjvvvuM4OBgw93d3QgODjYefvhh48cff7R53ueff25ERUUZrq6uNpe59+rVy2jXrt0l+7vcZfcfffSRMXnyZMPf39/w8vIy4uLijF9++aXS8+fOnWvccMMNhoeHh9GzZ09j7969lWpeqbeLL7s3DMM4c+aMMW7cOCM4ONhwc3MzbrzxRuPVV181ysvLbeZJMhISEir1dLnbAVwsOzvbGD58uNGsWTPD3d3d6NChwyVvDXA1l92npqYakowXX3zxsnOOHTtmSDLGjRtnPbdixQojIiLC8PDwMNq3b2+sWbPGiI+PNyIiIio9/+233za6du1qeHl5GY0aNTI6dOhgTJw40Thx4sSfrhWoS1wMw0G7AAEAtUbnzp3VvHlzJSUlOboVwCHYQwQAJlJSUqLS0lKbc9u3b9e+ffsu+XMqgFnwCREAmMixY8cUExOjIUOGKDg4WIcOHdLixYvl6+urgwcPqmnTpo5uEXAINlUDgIk0btxYXbt21TvvvKPff/9dDRs2VFxcnF5++WXCEEyNT4gAAIDpsYcIAACYHoEIAACYHnuIrkJ5eblOnDihRo0a2f2nCgAAQPUwDENnzpxRcHBwpR9VvhiB6CqcOHHisneBBQAAtdvx48fVokWLK84hEF2FitvpHz9+XD4+Pg7uBgAAXA2LxaKWLVte1c/iEIiuQsXXZD4+PgQiAADqmKvZ7sKmagAAYHoEIgAAYHoEIgAAYHoEIgAAYHoEIgAAYHoEIgAAYHoEIgAAYHoEIgAAYHoEIgAAYHoEIgAAYHoEIgAAYHoEIgAAYHoEIgAAYHoEIgAAYHqujm4AqCmZmZnKzc2tltrNmjVTSEhItdQGAFQ/AhFMITMzUxERkSosPFct9b28GujQoXRCEQDUUQQimEJubq4KC8+p+4hp8glqZdfalpPHtPvdGcrNzSUQAUAdRSCCqfgEtVKTkHBHtwEAqGXYVA0AAEyPQAQAAEyPQAQAAEyPQAQAAEyPTdWodarjfkHp6el2rQcAcC4EItQq1X2/oJKi4mqpCwCo2whEqFWq635BJw+k6OCat1VaWmq3mgAA50EgQq1k7/sFWU4es1stAIDzceim6unTp8vFxcXmiIiIsI6fP39eCQkJatq0qby9vRUfH6/s7GybGpmZmYqLi1ODBg3k7++vCRMmVPoUYPv27erSpYs8PDzUtm1bJSYm1sTyAABAHeHwq8zatWunkydPWo8dO3ZYx8aNG6cvvvhCq1evVnJysk6cOKEHHnjAOl5WVqa4uDgVFxdr586deu+995SYmKipU6da52RkZCguLk59+vRRWlqaxo4dq1GjRmnjxo01uk4AAFB7OfwrM1dXVwUGBlY6n5+fryVLlmj58uXq27evJGnp0qWKjIzUrl271KNHD23atEk//PCDNm/erICAAHXu3FmzZs3SpEmTNH36dLm7u2vx4sUKCwvT3LlzJUmRkZHasWOH5s+fr9jY2BpdKwAAqJ0c/gnRkSNHFBwcrNatW2vw4MHKzMyUJKWmpqqkpEQxMTHWuREREQoJCVFKSookKSUlRR06dFBAQIB1TmxsrCwWi77//nvrnAtrVMypqHEpRUVFslgsNgcAAHBeDg1E3bt3V2JiojZs2KC33npLGRkZuv3223XmzBllZWXJ3d1dfn5+Ns8JCAhQVlaWJCkrK8smDFWMV4xdaY7FYlFhYeEl+5ozZ458fX2tR8uWLe2xXAAAUEs59CuzAQMGWP+5Y8eO6t69u0JDQ7Vq1Sp5eXk5rK/Jkydr/Pjx1scWi4VQBACAE3P4V2YX8vPz01/+8hcdPXpUgYGBKi4uVl5ens2c7Oxs656jwMDASledVTz+szk+Pj6XDV0eHh7y8fGxOQAAgPOqVYGooKBAP/30k4KCgtS1a1e5ublpy5Yt1vHDhw8rMzNT0dHRkqTo6GgdOHBAOTk51jlJSUny8fFRVFSUdc6FNSrmVNQAAABwaCD6v//7PyUnJ+vYsWPauXOn/va3v6l+/fp6+OGH5evrq5EjR2r8+PHatm2bUlNTNXz4cEVHR6tHjx6SpP79+ysqKkpDhw7Vvn37tHHjRk2ZMkUJCQny8PCQJD355JP6+eefNXHiRB06dEhvvvmmVq1apXHjxjly6QAAoBZx6B6iX3/9VQ8//LBOnTql5s2b67bbbtOuXbvUvHlzSdL8+fNVr149xcfHq6ioSLGxsXrzzTetz69fv77Wrl2r0aNHKzo6Wg0bNtSwYcM0c+ZM65ywsDCtW7dO48aN08KFC9WiRQu98847XHIPAACsHBqIVqxYccVxT09PLVq0SIsWLbrsnNDQUK1fv/6KdXr37q3vvvuuSj0CAADnV6v2EAEAADgCgQgAAJgegQgAAJgegQgAAJgegQgAAJiew3/tHtUnMzNTubm51VK7WbNmCgkJqZbaAADUNAKRk8rMzFRERKQKC89VS30vrwY6dCidUFTNCLUAUDMIRE4qNzdXhYXn1H3ENPkEtbJrbcvJY9r97gzl5ubyF2o1ItQCQM0hEDk5n6BWahIS7ug2UAWEWgCoOQQioJYj1AJA9eMqMwAAYHoEIgAAYHoEIgAAYHoEIgAAYHoEIgAAYHoEIgAAYHoEIgAAYHoEIgAAYHoEIgAAYHoEIgAAYHoEIgAAYHoEIgAAYHoEIgAAYHoEIgAAYHoEIgAAYHoEIgAAYHoEIgAAYHoEIgAAYHoEIgAAYHoEIgAAYHoEIgAAYHoEIgAAYHoEIgAAYHoEIgAAYHoEIgAAYHqujm4AgOOkp6fbvWazZs0UEhJi97oAUJ0IRIAJFeafkuSiIUOG2L22l1cDHTqUTigCUKcQiAATKjl3RpKhzn+fpOZhEXarazl5TLvfnaHc3FwCEYA6hUAEmJi3f4iahIQ7ug0AcDg2VQMAANMjEAEAANMjEAEAANMjEAEAANMjEAEAANMjEAEAANMjEAEAANMjEAEAANMjEAEAANMjEAEAANMjEAEAANMjEAEAANMjEAEAANMjEAEAANMjEAEAANMjEAEAANMjEAEAANOrNYHo5ZdflouLi8aOHWs9d/78eSUkJKhp06by9vZWfHy8srOzbZ6XmZmpuLg4NWjQQP7+/powYYJKS0tt5mzfvl1dunSRh4eH2rZtq8TExBpYEQAAqCtqRSDas2eP/vWvf6ljx44258eNG6cvvvhCq1evVnJysk6cOKEHHnjAOl5WVqa4uDgVFxdr586deu+995SYmKipU6da52RkZCguLk59+vRRWlqaxo4dq1GjRmnjxo01tj4AAFC7OTwQFRQUaPDgwfr3v/+txo0bW8/n5+dryZIlmjdvnvr27auuXbtq6dKl2rlzp3bt2iVJ2rRpk3744Qd9+OGH6ty5swYMGKBZs2Zp0aJFKi4uliQtXrxYYWFhmjt3riIjIzVmzBg9+OCDmj9/vkPWCwAAah+HB6KEhATFxcUpJibG5nxqaqpKSkpszkdERCgkJEQpKSmSpJSUFHXo0EEBAQHWObGxsbJYLPr++++tcy6uHRsba61xKUVFRbJYLDYHAABwXq6OfPEVK1bo22+/1Z49eyqNZWVlyd3dXX5+fjbnAwIClJWVZZ1zYRiqGK8Yu9Ici8WiwsJCeXl5VXrtOXPmaMaMGVVeFwAAqFsc9gnR8ePH9cwzz2jZsmXy9PR0VBuXNHnyZOXn51uP48ePO7olAABQjRwWiFJTU5WTk6MuXbrI1dVVrq6uSk5O1muvvSZXV1cFBASouLhYeXl5Ns/Lzs5WYGCgJCkwMLDSVWcVj/9sjo+PzyU/HZIkDw8P+fj42BwAAMB5OSwQ9evXTwcOHFBaWpr16NatmwYPHmz9Zzc3N23ZssX6nMOHDyszM1PR0dGSpOjoaB04cEA5OTnWOUlJSfLx8VFUVJR1zoU1KuZU1AAAAHDYHqJGjRqpffv2NucaNmyopk2bWs+PHDlS48ePV5MmTeTj46OnnnpK0dHR6tGjhySpf//+ioqK0tChQ/XKK68oKytLU6ZMUUJCgjw8PCRJTz75pN544w1NnDhRI0aM0NatW7Vq1SqtW7euZhcMAABqLYduqv4z8+fPV7169RQfH6+ioiLFxsbqzTfftI7Xr19fa9eu1ejRoxUdHa2GDRtq2LBhmjlzpnVOWFiY1q1bp3HjxmnhwoVq0aKF3nnnHcXGxjpiSQAAoBaqVYFo+/btNo89PT21aNEiLVq06LLPCQ0N1fr1669Yt3fv3vruu+/s0SIAAHBCtSoQAXVZenp6ra4HALg8AhFwnQrzT0ly0ZAhQ6qlfklRcbXUBQD8/whEwHUqOXdGkqHOf5+k5mERdqt78kCKDq55u9KPFQMA7I9ABNiJt3+ImoSE262e5eQxu9UCAFyZw3/LDAAAwNEIRAAAwPQIRAAAwPQIRAAAwPQIRAAAwPQIRAAAwPQIRAAAwPQIRAAAwPQIRAAAwPQIRAAAwPQIRAAAwPQIRAAAwPQIRAAAwPQIRAAAwPRcHd0ApMzMTOXm5tq1Znp6ul3rAQDgzAhEDpaZmamIiEgVFp6rlvolRcXVUhcAAGdCIHKw3NxcFRaeU/cR0+QT1MpudU8eSNHBNW+rtLTUbjUBAHBWBKJawieolZqEhNutnuXkMbvVupzq+FqOr/oAAI5AIMI1K8w/JclFQ4YMqbbX4Ks+AEBNIhDhmpWcOyPJUOe/T1LzsAi71uarPgCAIxCIUGXe/iF2/ZpPqpmv+gAAuBj3IQIAAKZHIAIAAKZHIAIAAKZHIAIAAKZHIAIAAKZHIAIAAKZHIAIAAKZHIAIAAKZHIAIAAKZHIAIAAKZHIAIAAKZHIAIAAKZHIAIAAKZHIAIAAKZHIAIAAKZHIAIAAKZHIAIAAKZHIAIAAKZHIAIAAKZHIAIAAKZHIAIAAKZHIAIAAKbn6ugGAOBqZWZmKjc31+51mzVrppCQELvXBVB3EIgA1AmZmZmKiIhUYeE5u9f28mqgQ4fSCUWAiRGIANQJubm5Kiw8p+4jpsknqJXd6lpOHtPud2coNzeXQASYGIEIQJ3iE9RKTULCHd0GACfDpmoAAGB6BCIAAGB6BCIAAGB6BCIAAGB6BCIAAGB6Dg1Eb731ljp27CgfHx/5+PgoOjpaX375pXX8/PnzSkhIUNOmTeXt7a34+HhlZ2fb1MjMzFRcXJwaNGggf39/TZgwQaWlpTZztm/fri5dusjDw0Nt27ZVYmJiTSwPAADUEQ4NRC1atNDLL7+s1NRU7d27V3379tV9992n77//XpI0btw4ffHFF1q9erWSk5N14sQJPfDAA9bnl5WVKS4uTsXFxdq5c6fee+89JSYmaurUqdY5GRkZiouLU58+fZSWlqaxY8dq1KhR2rhxY42vFwAA1E4OvQ/RX//6V5vHs2fP1ltvvaVdu3apRYsWWrJkiZYvX66+fftKkpYuXarIyEjt2rVLPXr00KZNm/TDDz9o8+bNCggIUOfOnTVr1ixNmjRJ06dPl7u7uxYvXqywsDDNnTtXkhQZGakdO3Zo/vz5io2NrfE1AwCA2qfW7CEqKyvTihUrdPbsWUVHRys1NVUlJSWKiYmxzomIiFBISIhSUlIkSSkpKerQoYMCAgKsc2JjY2WxWKyfMqWkpNjUqJhTUQMAAKBKgah169Y6depUpfN5eXlq3br1NdU6cOCAvL295eHhoSeffFKffvqpoqKilJWVJXd3d/n5+dnMDwgIUFZWliQpKyvLJgxVjFeMXWmOxWJRYWHhJXsqKiqSxWKxOQAAgPOqUiA6duyYysrKKp0vKirSb7/9dk21wsPDlZaWpt27d2v06NEaNmyYfvjhh6q0ZTdz5syRr6+v9WjZsqVD+wEAANXrmvYQrVmzxvrPGzdulK+vr/VxWVmZtmzZolatWl1TA+7u7mrbtq0kqWvXrtqzZ48WLlyogQMHqri4WHl5eTafEmVnZyswMFCSFBgYqG+++camXsVVaBfOufjKtOzsbPn4+MjLy+uSPU2ePFnjx4+3PrZYLIQiAACc2DUFovvvv1+S5OLiomHDhtmMubm5qVWrVtbNy1VVXl6uoqIide3aVW5ubtqyZYvi4+MlSYcPH1ZmZqaio6MlSdHR0Zo9e7ZycnLk7+8vSUpKSpKPj4+ioqKsc9avX2/zGklJSdYal+Lh4SEPD4/rWgcAAKg7rikQlZeXS5LCwsK0Z88eNWvW7LpefPLkyRowYIBCQkJ05swZLV++XNu3b7d++jRy5EiNHz9eTZo0kY+Pj5566ilFR0erR48ekqT+/fsrKipKQ4cO1SuvvKKsrCxNmTJFCQkJ1kDz5JNP6o033tDEiRM1YsQIbd26VatWrdK6deuuq3cAAOA8qnTZfUZGhl1ePCcnR4888ohOnjwpX19fdezYURs3btSdd94pSZo/f77q1aun+Ph4FRUVKTY2Vm+++ab1+fXr19fatWs1evRoRUdHq2HDhho2bJhmzpxpnRMWFqZ169Zp3LhxWrhwoVq0aKF33nmHS+4BAIBVle9DtGXLFm3ZskU5OTnWT44qvPvuu1dVY8mSJVcc9/T01KJFi7Ro0aLLzgkNDa30ldjFevfure++++6qegIAAOZTpUA0Y8YMzZw5U926dVNQUJBcXFzs3RcAAECNqVIgWrx4sRITEzV06FB79wMAAFDjqnQfouLiYt1666327gUAAMAhqhSIRo0apeXLl9u7FwAAAIeo0ldm58+f19tvv63NmzerY8eOcnNzsxmfN2+eXZoDAACoCVUKRPv371fnzp0lSQcPHrQZY4M1AACoa6oUiLZt22bvPgAAABymSnuIAAAAnEmVPiHq06fPFb8a27p1a5UbAlD3paen14maAFChSoGoYv9QhZKSEqWlpengwYOVfvQVgHkU5p+S5KIhQ4ZU22uUFBVXW20A5lWlQDR//vxLnp8+fboKCgquqyEAdVfJuTOSDHX++yQ1D4uwa+2TB1J0cM3bKi0ttWtdAJCu47fMLmXIkCG65ZZb9M9//tOeZQHUMd7+IWoSEm7XmpaTx+xaDwAuZNdN1SkpKfL09LRnSQAAgGpXpU+IHnjgAZvHhmHo5MmT2rt3r1588UW7NAYAAFBTqhSIfH19bR7Xq1dP4eHhmjlzpvr372+XxgAAAGpKlQLR0qVL7d0HAACAw1zXpurU1FTrvUHatWunm266yS5NAQAA1KQqBaKcnBwNGjRI27dvl5+fnyQpLy9Pffr00YoVK9S8eXN79ggAAFCtqnSV2VNPPaUzZ87o+++/1+nTp3X69GkdPHhQFotFTz/9tL17BAAAqFZV+oRow4YN2rx5syIjI63noqKitGjRIjZVAwCAOqdKnxCVl5fLzc2t0nk3NzeVl5dfd1MAAAA1qUqBqG/fvnrmmWd04sQJ67nffvtN48aNU79+/ezWHAAAQE2oUiB64403ZLFY1KpVK7Vp00Zt2rRRWFiYLBaLXn/9dXv3CAAAUK2qtIeoZcuW+vbbb7V582YdOnRIkhQZGamYmBi7NgcAAFATrukToq1btyoqKkoWi0UuLi6688479dRTT+mpp57SzTffrHbt2uk///lPdfUKAABQLa4pEC1YsECPPfaYfHx8Ko35+vrqiSee0Lx58+zWHAAAQE24pkC0b98+3XXXXZcd79+/v1JTU6+7KQAAgJp0TYEoOzv7kpfbV3B1ddXvv/9+3U0BAADUpGsKRDfccIMOHjx42fH9+/crKCjoupsCAACoSdcUiO6++269+OKLOn/+fKWxwsJCTZs2Tffcc4/dmgMAAKgJ13TZ/ZQpU/TJJ5/oL3/5i8aMGaPw8HBJ0qFDh7Ro0SKVlZXphRdeqJZGAQAAqss1BaKAgADt3LlTo0eP1uTJk2UYhiTJxcVFsbGxWrRokQICAqqlUQAAgOpyzTdmDA0N1fr16/XHH3/o6NGjMgxDN954oxo3blwd/QEAAFS7Kt2pWpIaN26sm2++2Z69AAAAOESVfssMAADAmRCIAACA6RGIAACA6VV5DxEAOJP09PRqqdusWTOFhIRUS20A9kMgAmBqhfmnJLloyJAh1VLfy6uBDh1KJxQBtRyBCICplZw7I8lQ579PUvOwCLvWtpw8pt3vzlBubi6BCKjlCEQAIMnbP0RNQsId3QYAB2FTNQAAMD0CEQAAMD0CEQAAMD0CEQAAMD0CEQAAMD0CEQAAMD0CEQAAMD0CEQAAMD0CEQAAMD0CEQAAMD0CEQAAMD0CEQAAMD0CEQAAMD0CEQAAMD0CEQAAMD0CEQAAMD2HBqI5c+bo5ptvVqNGjeTv76/7779fhw8ftplz/vx5JSQkqGnTpvL29lZ8fLyys7Nt5mRmZiouLk4NGjSQv7+/JkyYoNLSUps527dvV5cuXeTh4aG2bdsqMTGxupcHAADqCIcGouTkZCUkJGjXrl1KSkpSSUmJ+vfvr7Nnz1rnjBs3Tl988YVWr16t5ORknThxQg888IB1vKysTHFxcSouLtbOnTv13nvvKTExUVOnTrXOycjIUFxcnPr06aO0tDSNHTtWo0aN0saNG2t0vQAAoHZydeSLb9iwweZxYmKi/P39lZqaqjvuuEP5+flasmSJli9frr59+0qSli5dqsjISO3atUs9evTQpk2b9MMPP2jz5s0KCAhQ586dNWvWLE2aNEnTp0+Xu7u7Fi9erLCwMM2dO1eSFBkZqR07dmj+/PmKjY2t8XUDAIDapVbtIcrPz5ckNWnSRJKUmpqqkpISxcTEWOdEREQoJCREKSkpkqSUlBR16NBBAQEB1jmxsbGyWCz6/vvvrXMurFExp6LGxYqKimSxWGwOAADgvGpNICovL9fYsWPVs2dPtW/fXpKUlZUld3d3+fn52cwNCAhQVlaWdc6FYahivGLsSnMsFosKCwsr9TJnzhz5+vpaj5YtW9pljQAAoHaqNYEoISFBBw8e1IoVKxzdiiZPnqz8/Hzrcfz4cUe3BAAAqpFD9xBVGDNmjNauXauvvvpKLVq0sJ4PDAxUcXGx8vLybD4lys7OVmBgoHXON998Y1Ov4iq0C+dcfGVadna2fHx85OXlVakfDw8PeXh42GVtAACg9nPoJ0SGYWjMmDH69NNPtXXrVoWFhdmMd+3aVW5ubtqyZYv13OHDh5WZmano6GhJUnR0tA4cOKCcnBzrnKSkJPn4+CgqKso658IaFXMqagAAAHNz6CdECQkJWr58uT7//HM1atTIuufH19dXXl5e8vX11ciRIzV+/Hg1adJEPj4+euqppxQdHa0ePXpIkvr376+oqCgNHTpUr7zyirKysjRlyhQlJCRYP+V58skn9cYbb2jixIkaMWKEtm7dqlWrVmndunUOWzsAAKg9HPoJ0VtvvaX8/Hz17t1bQUFB1mPlypXWOfPnz9c999yj+Ph43XHHHQoMDNQnn3xiHa9fv77Wrl2r+vXrKzo6WkOGDNEjjzyimTNnWueEhYVp3bp1SkpKUqdOnTR37ly98847XHIPAAAkOfgTIsMw/nSOp6enFi1apEWLFl12TmhoqNavX3/FOr1799Z33313zT0CAADnV2uuMgMAAHAUAhEAADA9AhEAADA9AhEAADA9AhEAADA9AhEAADA9AhEAADA9AhEAADA9AhEAADA9AhEAADA9AhEAADA9AhEAADA9AhEAADA9AhEAADA9AhEAADA9AhEAADA9AhEAADA9AhEAADA9AhEAADA9AhEAADA9AhEAADA9AhEAADA9AhEAADA9AhEAADA9V0c3AADOLj093e41i4qK5OHhYfe6ktSsWTOFhIRUS22gtiIQAUA1Kcw/JclFQ4YMsX9xFxfJMOxfV5KXVwMdOpROKIKpEIgAoJqUnDsjyVDnv09S87AIu9U9eSBFB9e8bfe6kmQ5eUy7352h3NxcAhFMhUAEANXM2z9ETULC7VbPcvJYtdQFzIxN1QAAwPQIRAAAwPQIRAAAwPQIRAAAwPQIRAAAwPQIRAAAwPQIRAAAwPQIRAAAwPQIRAAAwPQIRAAAwPQIRAAAwPQIRAAAwPQIRAAAwPQIRAAAwPQIRAAAwPQIRAAAwPQIRAAAwPQIRAAAwPQIRAAAwPQIRAAAwPQIRAAAwPQIRAAAwPQIRAAAwPQIRAAAwPQIRAAAwPQIRAAAwPQIRAAAwPQIRAAAwPQcGoi++uor/fWvf1VwcLBcXFz02Wef2YwbhqGpU6cqKChIXl5eiomJ0ZEjR2zmnD59WoMHD5aPj4/8/Pw0cuRIFRQU2MzZv3+/br/9dnl6eqply5Z65ZVXqntpAACgDnFoIDp79qw6deqkRYsWXXL8lVde0WuvvabFixdr9+7datiwoWJjY3X+/HnrnMGDB+v7779XUlKS1q5dq6+++kqPP/64ddxisah///4KDQ1VamqqXn31VU2fPl1vv/12ta8PAADUDa6OfPEBAwZowIABlxwzDEMLFizQlClTdN9990mS3n//fQUEBOizzz7ToEGDlJ6erg0bNmjPnj3q1q2bJOn111/X3XffrX/+858KDg7WsmXLVFxcrHfffVfu7u5q166d0tLSNG/ePJvgBAAAzKvW7iHKyMhQVlaWYmJirOd8fX3VvXt3paSkSJJSUlLk5+dnDUOSFBMTo3r16mn37t3WOXfccYfc3d2tc2JjY3X48GH98ccfl3ztoqIiWSwWmwMAADivWhuIsrKyJEkBAQE25wMCAqxjWVlZ8vf3txl3dXVVkyZNbOZcqsaFr3GxOXPmyNfX13q0bNny+hcEAABqrVobiBxp8uTJys/Ptx7Hjx93dEsAAKAa1dpAFBgYKEnKzs62OZ+dnW0dCwwMVE5Ojs14aWmpTp8+bTPnUjUufI2LeXh4yMfHx+YAAADOq9YGorCwMAUGBmrLli3WcxaLRbt371Z0dLQkKTo6Wnl5eUpNTbXO2bp1q8rLy9W9e3frnK+++kolJSXWOUlJSQoPD1fjxo1raDUAAKA2c+hVZgUFBTp69Kj1cUZGhtLS0tSkSROFhIRo7Nix+sc//qEbb7xRYWFhevHFFxUcHKz7779fkhQZGam77rpLjz32mBYvXqySkhKNGTNGgwYNUnBwsCTp73//u2bMmKGRI0dq0qRJOnjwoBYuXKj58+c7YskAUCekp6dXS91mzZopJCSkWmoD18OhgWjv3r3q06eP9fH48eMlScOGDVNiYqImTpyos2fP6vHHH1deXp5uu+02bdiwQZ6entbnLFu2TGPGjFG/fv1Ur149xcfH67XXXrOO+/r6atOmTUpISFDXrl3VrFkzTZ06lUvuAeASCvNPSXLRkCFDqqW+l1cDHTqUTihCrePQQNS7d28ZhnHZcRcXF82cOVMzZ8687JwmTZpo+fLlV3ydjh076j//+U+V+wQAsyg5d0aSoc5/n6TmYRF2rW05eUy7352h3NxcAhFqHYcGIgBA7eTtH6ImIeGObgOoMbV2UzUAAEBNIRABAADTIxABAADTIxABAADTIxABAADTIxABAADTIxABAADTIxABAADTIxABAADTIxABAADTIxABAADTIxABAADTIxABAADTIxABAADTIxABAADTIxABAADTIxABAADTIxABAADTIxABAADTIxABAADTIxABAADTIxABAADTIxABAADTIxABAADTIxABAADTIxABAADTIxABAADTIxABAADTIxABAADTIxABAADTIxABAADTIxABAADTc3V0AwAAc0lPT7d7zWbNmikkJMTudWEeBCIAQI0ozD8lyUVDhgyxe20PD0/9v//3sYKCguxem7BlDgQiAECNKDl3RpKhzn+fpOZhEXar+/uRfUpbtVD33HOP3WpeyMurgQ4dSicUOTkCEQCgRnn7h6hJSLjd6llOHlN1BK2K2rvfnaHc3FwCkZMjEAEAnIK9gxbMhavMAACA6RGIAACA6RGIAACA6RGIAACA6RGIAACA6RGIAACA6RGIAACA6RGIAACA6RGIAACA6XGnagAA/kR6errda/KjsbULgQgAgMsozD8lyUVDhgyxe21+NLZ2IRABAHAZJefOqDp+OJYfja19CEQAAPwJfjjW+bGpGgAAmB6BCAAAmB6BCAAAmB57iAAAcJDquJxf4pL+qiAQAQBQw6rzcn6p+i7pz8zMVG5url1rVnB0iDNVIFq0aJFeffVVZWVlqVOnTnr99dd1yy23OLotAIDJVNfl/FL1XdKfmZmpiIhIFRaes1vNCzn6vkymCUQrV67U+PHjtXjxYnXv3l0LFixQbGysDh8+LH9/f0e3BwAwobp0OX9ubq4KC8+p+4hp8glqZdfateG+TKYJRPPmzdNjjz2m4cOHS5IWL16sdevW6d1339Vzzz3n4O4AALAve+9PqqjnE9SqzoS4a2GKQFRcXKzU1FRNnjzZeq5evXqKiYlRSkqKAzsDAMC+qnt/UklRcbXUdTRTBKLc3FyVlZUpICDA5nxAQIAOHTpUaX5RUZGKioqsj/Pz8yVJFovF7r0VFBRIkk7/clilRYV2q2s5+YskKf+3I3JzdbFb3bpam55rpjY910ztuthzddamZ1unfjooyVDr3v8j34AWdqt7+li6ftm9Qad+SZeLyuxWV5IsWZmS/vt3oj3/rq2oZRjGn082TOC3334zJBk7d+60OT9hwgTjlltuqTR/2rRphiQODg4ODg4OJziOHz/+p1nBFJ8QNWvWTPXr11d2drbN+ezsbAUGBlaaP3nyZI0fP976uLy8XKdPn1bTpk3l4mLfJG8vFotFLVu21PHjx+Xj4+PodmoM62bdZmDGdZtxzRLrtve6DcPQmTNnFBwc/KdzTRGI3N3d1bVrV23ZskX333+/pP+GnC1btmjMmDGV5nt4eMjDw8PmnJ+fXw10ev18fHxM9X+iCqzbXFi3eZhxzRLrtidfX9+rmmeKQCRJ48eP17Bhw9StWzfdcsstWrBggc6ePWu96gwAAJiXaQLRwIED9fvvv2vq1KnKyspS586dtWHDhkobrQEAgPmYJhBJ0pgxYy75FZkz8PDw0LRp0yp91efsWDfrNgMzrtuMa5ZYtyPX7WIYV3MtGgAAgPOq5+gGAAAAHI1ABAAATI9ABAAATI9ABAAATI9AVMfMmTNHN998sxo1aiR/f3/df//9Onz4sM2c8+fPKyEhQU2bNpW3t7fi4+Mr3aW7rnnrrbfUsWNH6027oqOj9eWXX1rHnXHNF3v55Zfl4uKisWPHWs8547qnT58uFxcXmyMiIsI67oxrrvDbb79pyJAhatq0qby8vNShQwft3bvXOm4YhqZOnaqgoCB5eXkpJiZGR44ccWDH169Vq1aV3m8XFxclJCRIcs73u6ysTC+++KLCwsLk5eWlNm3aaNasWTa/t+WM77UknTlzRmPHjlVoaKi8vLx06623as+ePdZxh677+n8pDDUpNjbWWLp0qXHw4EEjLS3NuPvuu42QkBCjoKDAOufJJ580WrZsaWzZssXYu3ev0aNHD+PWW291YNfXb82aNca6deuMH3/80Th8+LDx/PPPG25ubsbBgwcNw3DONV/om2++MVq1amV07NjReOaZZ6znnXHd06ZNM9q1a2ecPHnSevz+++/WcWdcs2EYxunTp43Q0FDj0UcfNXbv3m38/PPPxsaNG42jR49a57z88suGr6+v8dlnnxn79u0z7r33XiMsLMwoLCx0YOfXJycnx+a9TkpKMiQZ27ZtMwzDOd/v2bNnG02bNjXWrl1rZGRkGKtXrza8vb2NhQsXWuc443ttGIbx0EMPGVFRUUZycrJx5MgRY9q0aYaPj4/x66+/Gobh2HUTiOq4nJwcQ5KRnJxsGIZh5OXlGW5ubsbq1autc9LT0w1JRkpKiqParBaNGzc23nnnHadf85kzZ4wbb7zRSEpKMnr16mUNRM667mnTphmdOnW65JizrtkwDGPSpEnGbbfddtnx8vJyIzAw0Hj11Vet5/Ly8gwPDw/jo48+qokWa8QzzzxjtGnTxigvL3fa9zsuLs4YMWKEzbkHHnjAGDx4sGEYzvtenzt3zqhfv76xdu1am/NdunQxXnjhBYevm6/M6rj8/HxJUpMmTSRJqampKikpUUxMjHVORESEQkJClJKS4pAe7a2srEwrVqzQ2bNnFR0d7fRrTkhIUFxcnM36JOd+r48cOaLg4GC1bt1agwcPVmZmpiTnXvOaNWvUrVs3/c///I/8/f1100036d///rd1PCMjQ1lZWTZr9/X1Vffu3ev82isUFxfrww8/1IgRI+Ti4uK07/ett96qLVu26Mcff5Qk7du3Tzt27NCAAQMkOe97XVpaqrKyMnl6etqc9/Ly0o4dOxy+blPdqdrZlJeXa+zYserZs6fat28vScrKypK7u3ulH6MNCAhQVlaWA7q0nwMHDig6Olrnz5+Xt7e3Pv30U0VFRSktLc1p17xixQp9++23Nt+xV3DW97p79+5KTExUeHi4Tp48qRkzZuj222/XwYMHnXbNkvTzzz/rrbfe0vjx4/X8889rz549evrpp+Xu7q5hw4ZZ13fxzw05w9orfPbZZ8rLy9Ojjz4qyXn/N/7cc8/JYrEoIiJC9evXV1lZmWbPnq3BgwdLktO+140aNVJ0dLRmzZqlyMhIBQQE6KOPPlJKSoratm3r8HUTiOqwhIQEHTx4UDt27HB0KzUiPDxcaWlpys/P18cff6xhw4YpOTnZ0W1Vm+PHj+uZZ55RUlJSpf+icmYV/5UsSR07dlT37t0VGhqqVatWycvLy4GdVa/y8nJ169ZNL730kiTppptu0sGDB7V48WINGzbMwd3VjCVLlmjAgAEKDg52dCvVatWqVVq2bJmWL1+udu3aKS0tTWPHjlVwcLDTv9cffPCBRowYoRtuuEH169dXly5d9PDDDys1NdXRrXGVWV01ZswYrV27Vtu2bVOLFi2s5wMDA1VcXKy8vDyb+dnZ2QoMDKzhLu3L3d1dbdu2VdeuXTVnzhx16tRJCxcudNo1p6amKicnR126dJGrq6tcXV2VnJys1157Ta6urgoICHDKdV/Mz89Pf/nLX3T06FGnfa8lKSgoSFFRUTbnIiMjrV8XVqzv4iusnGHtkvTLL79o8+bNGjVqlPWcs77fEyZM0HPPPadBgwapQ4cOGjp0qMaNG6c5c+ZIcu73uk2bNkpOTlZBQYGOHz+ub775RiUlJWrdurXD100gqmMMw9CYMWP06aefauvWrQoLC7MZ79q1q9zc3LRlyxbrucOHDyszM1PR0dE13W61Ki8vV1FRkdOuuV+/fjpw4IDS0tKsR7du3TR48GDrPzvjui9WUFCgn376SUFBQU77XktSz549K91C48cff1RoaKgkKSwsTIGBgTZrt1gs2r17d51fuyQtXbpU/v7+iouLs55z1vf73LlzqlfP9q/f+vXrq7y8XJLzv9eS1LBhQwUFBemPP/7Qxo0bdd999zl+3dW+bRt2NXr0aMPX19fYvn27zaWq586ds8558sknjZCQEGPr1q3G3r17jejoaCM6OtqBXV+/5557zkhOTjYyMjKM/fv3G88995zh4uJibNq0yTAM51zzpVx4lZlhOOe6n332WWP79u1GRkaG8fXXXxsxMTFGs2bNjJycHMMwnHPNhvHfWyu4uroas2fPNo4cOWIsW7bMaNCggfHhhx9a57z88suGn5+f8fnnnxv79+837rvvPqe4FLusrMwICQkxJk2aVGnMGd/vYcOGGTfccIP1svtPPvnEaNasmTFx4kTrHGd9rzds2GB8+eWXxs8//2xs2rTJ6NSpk9G9e3ejuLjYMAzHrptAVMdIuuSxdOlS65zCwkLjf//3f43GjRsbDRo0MP72t78ZJ0+edFzTdjBixAgjNDTUcHd3N5o3b27069fPGoYMwznXfCkXByJnXPfAgQONoKAgw93d3bjhhhuMgQMH2tyLxxnXXOGLL74w2rdvb3h4eBgRERHG22+/bTNeXl5uvPjii0ZAQIDh4eFh9OvXzzh8+LCDurWfjRs3GpIuuRZnfL8tFovxzDPPGCEhIYanp6fRunVr44UXXjCKioqsc5z1vV65cqXRunVrw93d3QgMDDQSEhKMvLw867gj1+1iGBfcGhMAAMCE2EMEAABMj0AEAABMj0AEAABMj0AEAABMj0AEAABMj0AEAABMj0AEAABMj0AEAABMj0AEwGmlpKSofv36Nr+PBQCXwp2qATitUaNGydvbW0uWLNHhw4cVHBzs6JYA1FJ8QgTAKRUUFGjlypUaPXq04uLilJiYaDO+Zs0a3XjjjfL09FSfPn303nvvycXFRXl5edY5O3bs0O233y4vLy+1bNlSTz/9tM6ePVuzCwFQIwhEAJzSqlWrFBERofDwcA0ZMkTvvvuuKj4Qz8jI0IMPPqj7779f+/bt0xNPPKEXXnjB5vk//fST7rrrLsXHx2v//v1auXKlduzYoTFjxjhiOQCqGV+ZAXBKPXv21EMPPaRnnnlGpaWlCgoK0urVq9W7d28999xzWrdunQ4cOGCdP2XKFM2ePVt//PGH/Pz8NGrUKNWvX1//+te/rHN27NihXr166ezZs/L09HTEsgBUEz4hAuB0Dh8+rG+++UYPP/ywJMnV1VUDBw7UkiVLrOM333yzzXNuueUWm8f79u1TYmKivL29rUdsbKzKy8uVkZFRMwsBUGNcHd0AANjbkiVLVFpaarOJ2jAMeXh46I033riqGgUFBXriiSf09NNPVxoLCQmxW68AagcCEQCnUlpaqvfff19z585V//79bcbuv/9+ffTRRwoPD9f69ettxvbs2WPzuEuXLvrhhx/Utm3bau8ZgOOxhwiAU/nss880cOBA5eTkyNfX12Zs0qRJ2rp1q1atWqXw8HCNGzdOI0eOVFpamp599ln9+uuvysvLk6+vr/bv368ePXpoxIgRGjVqlBo2bKgffvhBSUlJV/0pE4C6gz1EAJzKkiVLFBMTUykMSVJ8fLz27t2rM2fO6OOPP9Ynn3yijh076q233rJeZebh4SFJ6tixo5KTk/Xjjz/q9ttv10033aSpU6dyLyPASfEJEQBImj17thYvXqzjx487uhUADsAeIgCm9Oabb+rmm29W06ZN9fXXX+vVV1/lHkOAiRGIAJjSkSNH9I9//EOnT59WSEiInn32WU2ePNnRbQFwEL4yAwAApsemagAAYHoEIgAAYHoEIgAAYHoEIgAAYHoEIgAAYHoEIgAAYHoEIgAAYHoEIgAAYHoEIgAAYHr/Hwqdz82ZAGIOAAAAAElFTkSuQmCC",
      "text/plain": [
       "<Figure size 640x480 with 1 Axes>"
      ]
     },
     "metadata": {},
     "output_type": "display_data"
    }
   ],
   "source": [
    "# Visualize the distribution of income\n",
    "sns.countplot(x='income', data=data)\n",
    "plt.title('Distribution of Income')\n",
    "plt.xlabel('Income')\n",
    "plt.ylabel('Count')\n",
    "plt.show()\n",
    "\n",
    "# Visualize the distribution of age\n",
    "sns.histplot(data['age'], bins=20)\n",
    "plt.title('Distribution of Age')\n",
    "plt.xlabel('Age')\n",
    "plt.ylabel('Count')\n",
    "plt.show()"
   ]
  },
  {
   "cell_type": "code",
   "execution_count": 24,
   "metadata": {},
   "outputs": [
    {
     "data": {
      "image/png": "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",
      "text/plain": [
       "<Figure size 640x480 with 1 Axes>"
      ]
     },
     "metadata": {},
     "output_type": "display_data"
    },
    {
     "data": {
      "image/png": "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",
      "text/plain": [
       "<Figure size 640x480 with 1 Axes>"
      ]
     },
     "metadata": {},
     "output_type": "display_data"
    }
   ],
   "source": [
    "# Visualize the income distribution by education level\n",
    "sns.countplot(x='education', hue='income', data=data)\n",
    "plt.title('Income Distribution by Education Level')\n",
    "plt.xlabel('Education Level')\n",
    "plt.ylabel('Count')\n",
    "plt.xticks(rotation=45)\n",
    "plt.legend(title='Income', loc='upper right')\n",
    "plt.show()\n",
    "\n",
    "# Visualize the income distribution by occupation\n",
    "sns.countplot(x='occupation', hue='income', data=data)\n",
    "plt.title('Income Distribution by Occupation')\n",
    "plt.xlabel('Occupation')\n",
    "plt.ylabel('Count')\n",
    "plt.xticks(rotation=45)\n",
    "plt.legend(title='Income', loc='upper right')\n",
    "plt.show()"
   ]
  },
  {
   "cell_type": "code",
   "execution_count": 25,
   "metadata": {},
   "outputs": [
    {
     "data": {
      "image/png": "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",
      "text/plain": [
       "<Figure size 640x480 with 1 Axes>"
      ]
     },
     "metadata": {},
     "output_type": "display_data"
    },
    {
     "data": {
      "image/png": "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",
      "text/plain": [
       "<Figure size 640x480 with 1 Axes>"
      ]
     },
     "metadata": {},
     "output_type": "display_data"
    }
   ],
   "source": [
    "# Visualize the income distribution by race\n",
    "sns.countplot(x='race', hue='income', data=data)\n",
    "plt.title('Income Distribution by Race')\n",
    "plt.xlabel('Race')\n",
    "plt.ylabel('Count')\n",
    "plt.legend(title='Income', loc='upper right')\n",
    "plt.show()\n",
    "\n",
    "\n",
    "# Visualize the income distribution by workclass\n",
    "sns.countplot(x='workclass', hue='income', data=data)\n",
    "plt.title('Income Distribution by Workclass')\n",
    "plt.xlabel('Workclass')\n",
    "plt.ylabel('Count')\n",
    "plt.xticks(rotation=45)\n",
    "plt.legend(title='Income', loc='upper right')\n",
    "plt.show()"
   ]
  },
  {
   "cell_type": "code",
   "execution_count": 26,
   "metadata": {},
   "outputs": [
    {
     "data": {
      "image/png": "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",
      "text/plain": [
       "<Figure size 640x480 with 1 Axes>"
      ]
     },
     "metadata": {},
     "output_type": "display_data"
    },
    {
     "data": {
      "image/png": "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",
      "text/plain": [
       "<Figure size 640x480 with 1 Axes>"
      ]
     },
     "metadata": {},
     "output_type": "display_data"
    }
   ],
   "source": [
    "# Visualize the distribution of capital-gain\n",
    "sns.histplot(data['capital_gain'], bins=20)\n",
    "plt.title('Distribution of Capital Gain')\n",
    "plt.xlabel('Capital Gain')\n",
    "plt.ylabel('Count')\n",
    "plt.show()\n",
    "\n",
    "# Visualize the distribution of capital-loss\n",
    "sns.histplot(data['capital_loss'], bins=20)\n",
    "plt.title('Distribution of Capital Loss')\n",
    "plt.xlabel('Capital Loss')\n",
    "plt.ylabel('Count')\n",
    "plt.show()"
   ]
  },
  {
   "cell_type": "code",
   "execution_count": 27,
   "metadata": {},
   "outputs": [],
   "source": [
    "# Log-transform the skewed features\n",
    "skewed = ['capital_gain', 'capital_loss']\n",
    "features_log_transformed = pd.DataFrame(data = features_raw)\n",
    "features_log_transformed[skewed] = features_raw[skewed].apply(lambda x: np.log(x + 1))"
   ]
  },
  {
   "cell_type": "code",
   "execution_count": 28,
   "metadata": {},
   "outputs": [
    {
     "data": {
      "image/png": "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",
      "text/plain": [
       "<Figure size 640x480 with 1 Axes>"
      ]
     },
     "metadata": {},
     "output_type": "display_data"
    },
    {
     "data": {
      "image/png": "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",
      "text/plain": [
       "<Figure size 640x480 with 1 Axes>"
      ]
     },
     "metadata": {},
     "output_type": "display_data"
    }
   ],
   "source": [
    "# Visualize the distribution of capital-gain after transformation\n",
    "sns.histplot(features_log_transformed['capital_gain'], bins=20)\n",
    "plt.title('Distribution of Capital Gain')\n",
    "plt.xlabel('Capital Gain')\n",
    "plt.ylabel('Count')\n",
    "plt.show()\n",
    "\n",
    "# Visualize the distribution of capital-loss after transformation\n",
    "sns.histplot(features_log_transformed['capital_loss'], bins=20)\n",
    "plt.title('Distribution of Capital Loss')\n",
    "plt.xlabel('Capital Loss')\n",
    "plt.ylabel('Count')\n",
    "plt.show()"
   ]
  },
  {
   "cell_type": "code",
   "execution_count": 29,
   "metadata": {},
   "outputs": [
    {
     "data": {
      "text/html": [
       "<div>\n",
       "<style scoped>\n",
       "    .dataframe tbody tr th:only-of-type {\n",
       "        vertical-align: middle;\n",
       "    }\n",
       "\n",
       "    .dataframe tbody tr th {\n",
       "        vertical-align: top;\n",
       "    }\n",
       "\n",
       "    .dataframe thead th {\n",
       "        text-align: right;\n",
       "    }\n",
       "</style>\n",
       "<table border=\"1\" class=\"dataframe\">\n",
       "  <thead>\n",
       "    <tr style=\"text-align: right;\">\n",
       "      <th></th>\n",
       "      <th>age</th>\n",
       "      <th>workclass</th>\n",
       "      <th>fnlwgt</th>\n",
       "      <th>education</th>\n",
       "      <th>education_num</th>\n",
       "      <th>marital_status</th>\n",
       "      <th>occupation</th>\n",
       "      <th>relationship</th>\n",
       "      <th>race</th>\n",
       "      <th>sex</th>\n",
       "      <th>capital_gain</th>\n",
       "      <th>capital_loss</th>\n",
       "      <th>hours_per_week</th>\n",
       "      <th>native_country</th>\n",
       "      <th>income</th>\n",
       "    </tr>\n",
       "  </thead>\n",
       "  <tbody>\n",
       "    <tr>\n",
       "      <th>0</th>\n",
       "      <td>0.109589</td>\n",
       "      <td>Private</td>\n",
       "      <td>226802</td>\n",
       "      <td>11th</td>\n",
       "      <td>0.400000</td>\n",
       "      <td>Never-married</td>\n",
       "      <td>Machine-op-inspct</td>\n",
       "      <td>Own-child</td>\n",
       "      <td>Black</td>\n",
       "      <td>Male</td>\n",
       "      <td>0.000000</td>\n",
       "      <td>0.0</td>\n",
       "      <td>0.397959</td>\n",
       "      <td>United-States</td>\n",
       "      <td>&lt;=50K</td>\n",
       "    </tr>\n",
       "    <tr>\n",
       "      <th>1</th>\n",
       "      <td>0.287671</td>\n",
       "      <td>Private</td>\n",
       "      <td>89814</td>\n",
       "      <td>HS-grad</td>\n",
       "      <td>0.533333</td>\n",
       "      <td>Married-civ-spouse</td>\n",
       "      <td>Farming-fishing</td>\n",
       "      <td>Husband</td>\n",
       "      <td>White</td>\n",
       "      <td>Male</td>\n",
       "      <td>0.000000</td>\n",
       "      <td>0.0</td>\n",
       "      <td>0.500000</td>\n",
       "      <td>United-States</td>\n",
       "      <td>&lt;=50K</td>\n",
       "    </tr>\n",
       "    <tr>\n",
       "      <th>2</th>\n",
       "      <td>0.150685</td>\n",
       "      <td>Local-gov</td>\n",
       "      <td>336951</td>\n",
       "      <td>Assoc-acdm</td>\n",
       "      <td>0.733333</td>\n",
       "      <td>Married-civ-spouse</td>\n",
       "      <td>Protective-serv</td>\n",
       "      <td>Husband</td>\n",
       "      <td>White</td>\n",
       "      <td>Male</td>\n",
       "      <td>0.000000</td>\n",
       "      <td>0.0</td>\n",
       "      <td>0.397959</td>\n",
       "      <td>United-States</td>\n",
       "      <td>&gt;50K</td>\n",
       "    </tr>\n",
       "    <tr>\n",
       "      <th>3</th>\n",
       "      <td>0.369863</td>\n",
       "      <td>Private</td>\n",
       "      <td>160323</td>\n",
       "      <td>Some-college</td>\n",
       "      <td>0.600000</td>\n",
       "      <td>Married-civ-spouse</td>\n",
       "      <td>Machine-op-inspct</td>\n",
       "      <td>Husband</td>\n",
       "      <td>Black</td>\n",
       "      <td>Male</td>\n",
       "      <td>0.076881</td>\n",
       "      <td>0.0</td>\n",
       "      <td>0.397959</td>\n",
       "      <td>United-States</td>\n",
       "      <td>&gt;50K</td>\n",
       "    </tr>\n",
       "    <tr>\n",
       "      <th>4</th>\n",
       "      <td>0.013699</td>\n",
       "      <td>Private</td>\n",
       "      <td>103497</td>\n",
       "      <td>Some-college</td>\n",
       "      <td>0.600000</td>\n",
       "      <td>Never-married</td>\n",
       "      <td>Prof-specialty</td>\n",
       "      <td>Own-child</td>\n",
       "      <td>White</td>\n",
       "      <td>Female</td>\n",
       "      <td>0.000000</td>\n",
       "      <td>0.0</td>\n",
       "      <td>0.295918</td>\n",
       "      <td>United-States</td>\n",
       "      <td>&lt;=50K</td>\n",
       "    </tr>\n",
       "  </tbody>\n",
       "</table>\n",
       "</div>"
      ],
      "text/plain": [
       "        age  workclass  fnlwgt     education  education_num   \n",
       "0  0.109589    Private  226802          11th       0.400000  \\\n",
       "1  0.287671    Private   89814       HS-grad       0.533333   \n",
       "2  0.150685  Local-gov  336951    Assoc-acdm       0.733333   \n",
       "3  0.369863    Private  160323  Some-college       0.600000   \n",
       "4  0.013699    Private  103497  Some-college       0.600000   \n",
       "\n",
       "       marital_status         occupation relationship   race     sex   \n",
       "0       Never-married  Machine-op-inspct    Own-child  Black    Male  \\\n",
       "1  Married-civ-spouse    Farming-fishing      Husband  White    Male   \n",
       "2  Married-civ-spouse    Protective-serv      Husband  White    Male   \n",
       "3  Married-civ-spouse  Machine-op-inspct      Husband  Black    Male   \n",
       "4       Never-married     Prof-specialty    Own-child  White  Female   \n",
       "\n",
       "   capital_gain  capital_loss  hours_per_week native_country income  \n",
       "0      0.000000           0.0        0.397959  United-States  <=50K  \n",
       "1      0.000000           0.0        0.500000  United-States  <=50K  \n",
       "2      0.000000           0.0        0.397959  United-States   >50K  \n",
       "3      0.076881           0.0        0.397959  United-States   >50K  \n",
       "4      0.000000           0.0        0.295918  United-States  <=50K  "
      ]
     },
     "metadata": {},
     "output_type": "display_data"
    }
   ],
   "source": [
    "from sklearn.preprocessing import MinMaxScaler\n",
    "# Initialize a scaler, then apply it to the features\n",
    "scaler = MinMaxScaler()\n",
    "numerical = ['age', 'education_num', 'capital_gain', 'capital_loss', 'hours_per_week']\n",
    "\n",
    "features_log_minmax_transform = pd.DataFrame(data)\n",
    "features_log_minmax_transform[numerical] = scaler.fit_transform(features_log_minmax_transform[numerical])\n",
    "# Show an example of a record with scaling applied\n",
    "display(features_log_minmax_transform.head(n=5))"
   ]
  },
  {
   "cell_type": "code",
   "execution_count": 30,
   "metadata": {},
   "outputs": [
    {
     "data": {
      "text/html": [
       "<div>\n",
       "<style scoped>\n",
       "    .dataframe tbody tr th:only-of-type {\n",
       "        vertical-align: middle;\n",
       "    }\n",
       "\n",
       "    .dataframe tbody tr th {\n",
       "        vertical-align: top;\n",
       "    }\n",
       "\n",
       "    .dataframe thead th {\n",
       "        text-align: right;\n",
       "    }\n",
       "</style>\n",
       "<table border=\"1\" class=\"dataframe\">\n",
       "  <thead>\n",
       "    <tr style=\"text-align: right;\">\n",
       "      <th></th>\n",
       "      <th>age</th>\n",
       "      <th>workclass</th>\n",
       "      <th>fnlwgt</th>\n",
       "      <th>education</th>\n",
       "      <th>education_num</th>\n",
       "      <th>marital_status</th>\n",
       "      <th>occupation</th>\n",
       "      <th>relationship</th>\n",
       "      <th>race</th>\n",
       "      <th>sex</th>\n",
       "      <th>capital_gain</th>\n",
       "      <th>capital_loss</th>\n",
       "      <th>hours_per_week</th>\n",
       "      <th>native_country</th>\n",
       "      <th>income</th>\n",
       "    </tr>\n",
       "  </thead>\n",
       "  <tbody>\n",
       "    <tr>\n",
       "      <th>0</th>\n",
       "      <td>0.109589</td>\n",
       "      <td>Private</td>\n",
       "      <td>226802</td>\n",
       "      <td>11th</td>\n",
       "      <td>0.4</td>\n",
       "      <td>Never-married</td>\n",
       "      <td>Machine-op-inspct</td>\n",
       "      <td>Own-child</td>\n",
       "      <td>Black</td>\n",
       "      <td>Male</td>\n",
       "      <td>0.0</td>\n",
       "      <td>0.0</td>\n",
       "      <td>0.397959</td>\n",
       "      <td>United-States</td>\n",
       "      <td>&lt;=50K</td>\n",
       "    </tr>\n",
       "  </tbody>\n",
       "</table>\n",
       "</div>"
      ],
      "text/plain": [
       "        age workclass  fnlwgt education  education_num marital_status   \n",
       "0  0.109589   Private  226802      11th            0.4  Never-married  \\\n",
       "\n",
       "          occupation relationship   race   sex  capital_gain  capital_loss   \n",
       "0  Machine-op-inspct    Own-child  Black  Male           0.0           0.0  \\\n",
       "\n",
       "   hours_per_week native_country income  \n",
       "0        0.397959  United-States  <=50K  "
      ]
     },
     "execution_count": 30,
     "metadata": {},
     "output_type": "execute_result"
    }
   ],
   "source": [
    "#preprocessing categorial features\n",
    "\n",
    "features_log_minmax_transform.head(1)"
   ]
  },
  {
   "cell_type": "code",
   "execution_count": 31,
   "metadata": {},
   "outputs": [
    {
     "name": "stdout",
     "output_type": "stream",
     "text": [
      "107 total features after one-hot encoding.\n",
      "['age', 'fnlwgt', 'education_num', 'capital_gain', 'capital_loss', 'hours_per_week', 'workclass_Federal-gov', 'workclass_Local-gov', 'workclass_Never-worked', 'workclass_Private', 'workclass_Self-emp-inc', 'workclass_Self-emp-not-inc', 'workclass_State-gov', 'workclass_Without-pay', 'education_10th', 'education_11th', 'education_12th', 'education_1st-4th', 'education_5th-6th', 'education_7th-8th', 'education_9th', 'education_Assoc-acdm', 'education_Assoc-voc', 'education_Bachelors', 'education_Doctorate', 'education_HS-grad', 'education_Masters', 'education_Preschool', 'education_Prof-school', 'education_Some-college', 'marital_status_Divorced', 'marital_status_Married-AF-spouse', 'marital_status_Married-civ-spouse', 'marital_status_Married-spouse-absent', 'marital_status_Never-married', 'marital_status_Separated', 'marital_status_Widowed', 'occupation_Adm-clerical', 'occupation_Armed-Forces', 'occupation_Craft-repair', 'occupation_Exec-managerial', 'occupation_Farming-fishing', 'occupation_Handlers-cleaners', 'occupation_Machine-op-inspct', 'occupation_Other-service', 'occupation_Priv-house-serv', 'occupation_Prof-specialty', 'occupation_Protective-serv', 'occupation_Sales', 'occupation_Tech-support', 'occupation_Transport-moving', 'relationship_Husband', 'relationship_Not-in-family', 'relationship_Other-relative', 'relationship_Own-child', 'relationship_Unmarried', 'relationship_Wife', 'race_Amer-Indian-Eskimo', 'race_Asian-Pac-Islander', 'race_Black', 'race_Other', 'race_White', 'sex_Female', 'sex_Male', 'native_country_Cambodia', 'native_country_Canada', 'native_country_China', 'native_country_Columbia', 'native_country_Cuba', 'native_country_Dominican-Republic', 'native_country_Ecuador', 'native_country_El-Salvador', 'native_country_England', 'native_country_France', 'native_country_Germany', 'native_country_Greece', 'native_country_Guatemala', 'native_country_Haiti', 'native_country_Holand-Netherlands', 'native_country_Honduras', 'native_country_Hong', 'native_country_Hungary', 'native_country_India', 'native_country_Iran', 'native_country_Ireland', 'native_country_Italy', 'native_country_Jamaica', 'native_country_Japan', 'native_country_Laos', 'native_country_Mexico', 'native_country_Nicaragua', 'native_country_Outlying-US(Guam-USVI-etc)', 'native_country_Peru', 'native_country_Philippines', 'native_country_Poland', 'native_country_Portugal', 'native_country_Puerto-Rico', 'native_country_Scotland', 'native_country_South', 'native_country_Taiwan', 'native_country_Thailand', 'native_country_Trinadad&Tobago', 'native_country_United-States', 'native_country_Vietnam', 'native_country_Yugoslavia', 'income_<=50K', 'income_>50K']\n"
     ]
    }
   ],
   "source": [
    "# Transform Categorial into Numerical\n",
    "# One-hot encode the 'features_log_minmax_transform' data \n",
    "features_final = pd.get_dummies(features_log_minmax_transform)\n",
    "\n",
    "# Encode the 'income_raw' data to numerical values\n",
    "income = income_raw.map({'<=50K':0,'>50K':1})\n",
    "\n",
    "# Print the number of features after one-hot encoding\n",
    "encoded = list(features_final.columns)\n",
    "print(\"{} total features after one-hot encoding.\".format(len(encoded)))\n",
    "\n",
    "# See the encoded feature names\n",
    "print (encoded)"
   ]
  },
  {
   "cell_type": "markdown",
   "metadata": {},
   "source": [
    "<h4> Feature Selection"
   ]
  },
  {
   "cell_type": "markdown",
   "metadata": {},
   "source": [
    "<h2>Building the Model"
   ]
  },
  {
   "cell_type": "markdown",
   "metadata": {},
   "source": [
    "<h4>Declare feature vector and target variable"
   ]
  },
  {
   "cell_type": "code",
<<<<<<< HEAD
   "execution_count": 32,
=======
   "execution_count": 5,
>>>>>>> 9e524e9a2ff1e9a3e9f07aa9bbcb56b6dc1d7f84
   "metadata": {},
   "outputs": [],
   "source": [
    "X = data.drop(['income'], axis=1)\n",
    "\n",
    "y = data['income']"
   ]
  },
  {
   "cell_type": "markdown",
   "metadata": {},
   "source": [
    "<h4> Split data into separate training and test set "
   ]
  },
  {
   "cell_type": "code",
<<<<<<< HEAD
   "execution_count": 33,
=======
   "execution_count": 7,
>>>>>>> 9e524e9a2ff1e9a3e9f07aa9bbcb56b6dc1d7f84
   "metadata": {},
   "outputs": [],
   "source": [
    "# split X and y into training and testing sets\n",
    "\n",
    "from sklearn.model_selection import train_test_split\n",
    "\n",
    "X_train, X_test, y_train, y_test = train_test_split(X, y, test_size = 0.3, random_state = 0)"
   ]
  },
  {
   "cell_type": "code",
<<<<<<< HEAD
   "execution_count": 34,
=======
   "execution_count": 8,
>>>>>>> 9e524e9a2ff1e9a3e9f07aa9bbcb56b6dc1d7f84
   "metadata": {},
   "outputs": [
    {
     "data": {
      "text/plain": [
       "((34189, 14), (14653, 14))"
      ]
     },
<<<<<<< HEAD
     "execution_count": 34,
=======
     "execution_count": 8,
>>>>>>> 9e524e9a2ff1e9a3e9f07aa9bbcb56b6dc1d7f84
     "metadata": {},
     "output_type": "execute_result"
    }
   ],
   "source": [
    "# check the shape of X_train and X_test\n",
    "X_train.shape, X_test.shape"
   ]
  },
  {
   "cell_type": "markdown",
   "metadata": {},
   "source": [
    "<h4> Feature Engineering"
   ]
  },
  {
   "cell_type": "code",
   "execution_count": 35,
   "metadata": {},
   "outputs": [
    {
     "data": {
      "text/plain": [
       "age                int64\n",
       "workclass         object\n",
       "fnlwgt             int64\n",
       "education         object\n",
       "education_num      int64\n",
       "marital_status    object\n",
       "occupation        object\n",
       "relationship      object\n",
       "race              object\n",
       "sex               object\n",
       "capital_gain       int64\n",
       "capital_loss       int64\n",
       "hours_per_week     int64\n",
       "native_country    object\n",
       "dtype: object"
      ]
     },
     "execution_count": 35,
     "metadata": {},
     "output_type": "execute_result"
    }
   ],
   "source": [
    "# check data types in X_train\n",
    "X_train.dtypes"
   ]
  },
  {
   "cell_type": "code",
   "execution_count": 36,
   "metadata": {},
   "outputs": [
    {
     "data": {
      "text/plain": [
       "['workclass',\n",
       " 'education',\n",
       " 'marital_status',\n",
       " 'occupation',\n",
       " 'relationship',\n",
       " 'race',\n",
       " 'sex',\n",
       " 'native_country']"
      ]
     },
     "execution_count": 36,
     "metadata": {},
     "output_type": "execute_result"
    }
   ],
   "source": [
    "# display categorical variables\n",
    "categorical = [col for col in X_train.columns if X_train[col].dtypes == 'O']\n",
    "categorical"
   ]
  },
  {
   "cell_type": "code",
   "execution_count": 37,
   "metadata": {},
   "outputs": [
    {
     "data": {
      "text/plain": [
       "['age',\n",
       " 'fnlwgt',\n",
       " 'education_num',\n",
       " 'capital_gain',\n",
       " 'capital_loss',\n",
       " 'hours_per_week']"
      ]
     },
     "execution_count": 37,
     "metadata": {},
     "output_type": "execute_result"
    }
   ],
   "source": [
    "# display numerical variables\n",
    "numerical = [col for col in X_train.columns if X_train[col].dtypes != 'O']\n",
    "numerical"
   ]
  },
  {
   "cell_type": "code",
   "execution_count": 38,
   "metadata": {},
   "outputs": [
    {
     "data": {
      "text/plain": [
       "workclass         0.0\n",
       "education         0.0\n",
       "marital_status    0.0\n",
       "occupation        0.0\n",
       "relationship      0.0\n",
       "race              0.0\n",
       "sex               0.0\n",
       "native_country    0.0\n",
       "dtype: float64"
      ]
     },
     "execution_count": 38,
     "metadata": {},
     "output_type": "execute_result"
    }
   ],
   "source": [
    "# print percentage of missing values in the categorical variables in training set\n",
    "X_train[categorical].isnull().mean()"
   ]
  },
  {
   "cell_type": "code",
   "execution_count": 39,
   "metadata": {},
   "outputs": [
    {
     "data": {
      "text/plain": [
       "workclass         0\n",
       "education         0\n",
       "marital_status    0\n",
       "occupation        0\n",
       "relationship      0\n",
       "race              0\n",
       "sex               0\n",
       "native_country    0\n",
       "dtype: int64"
      ]
     },
     "execution_count": 39,
     "metadata": {},
     "output_type": "execute_result"
    }
   ],
   "source": [
    "# check missing values in categorical variables in X_test\n",
    "X_test[categorical].isnull().sum()"
   ]
  },
  {
   "cell_type": "code",
   "execution_count": 40,
   "metadata": {},
   "outputs": [],
   "source": [
    "# print categorical variables with missing data\n",
    "#for col in categorical:\n",
    "    #if X_train[col].isnull().mean()>0:\n",
    "        #print(col, (X_train[col].isnull().mean()))"
   ]
  },
  {
   "cell_type": "code",
   "execution_count": 41,
   "metadata": {},
   "outputs": [],
   "source": [
    "# impute missing categorical variables with most frequent value\n",
    "#for df2 in [X_train, X_test]:\n",
    "    #df2['workclass'].fillna(X_train['workclass'].mode()[0], inplace=True)\n",
    "    #df2['occupation'].fillna(X_train['occupation'].mode()[0], inplace=True)\n",
    "    #df2['native_country'].fillna(X_train['native_country'].mode()[0], inplace=True) \n",
    "#not necessary, we already filled missing variables"
   ]
  },
  {
   "cell_type": "code",
   "execution_count": 42,
   "metadata": {},
   "outputs": [
    {
     "data": {
      "text/plain": [
       "Index(['age', 'workclass', 'fnlwgt', 'education', 'education_num',\n",
       "       'marital_status', 'occupation', 'relationship', 'race', 'sex',\n",
       "       'capital_gain', 'capital_loss', 'hours_per_week', 'native_country'],\n",
       "      dtype='object')"
      ]
     },
     "execution_count": 42,
     "metadata": {},
     "output_type": "execute_result"
    }
   ],
   "source": [
    "X_train.columns"
   ]
  },
  {
   "cell_type": "markdown",
   "metadata": {},
   "source": [
    "<h4> Encode categorical variables"
   ]
  },
  {
   "cell_type": "code",
   "execution_count": 43,
   "metadata": {},
   "outputs": [
    {
     "data": {
      "text/html": [
       "<div>\n",
       "<style scoped>\n",
       "    .dataframe tbody tr th:only-of-type {\n",
       "        vertical-align: middle;\n",
       "    }\n",
       "\n",
       "    .dataframe tbody tr th {\n",
       "        vertical-align: top;\n",
       "    }\n",
       "\n",
       "    .dataframe thead th {\n",
       "        text-align: right;\n",
       "    }\n",
       "</style>\n",
       "<table border=\"1\" class=\"dataframe\">\n",
       "  <thead>\n",
       "    <tr style=\"text-align: right;\">\n",
       "      <th></th>\n",
       "      <th>workclass</th>\n",
       "      <th>education</th>\n",
       "      <th>marital_status</th>\n",
       "      <th>occupation</th>\n",
       "      <th>relationship</th>\n",
       "      <th>race</th>\n",
       "      <th>sex</th>\n",
       "      <th>native_country</th>\n",
       "    </tr>\n",
       "  </thead>\n",
       "  <tbody>\n",
       "    <tr>\n",
       "      <th>3833</th>\n",
       "      <td>Local-gov</td>\n",
       "      <td>Some-college</td>\n",
       "      <td>Married-civ-spouse</td>\n",
       "      <td>Adm-clerical</td>\n",
       "      <td>Own-child</td>\n",
       "      <td>White</td>\n",
       "      <td>Female</td>\n",
       "      <td>United-States</td>\n",
       "    </tr>\n",
       "    <tr>\n",
       "      <th>34743</th>\n",
       "      <td>Private</td>\n",
       "      <td>10th</td>\n",
       "      <td>Married-civ-spouse</td>\n",
       "      <td>Craft-repair</td>\n",
       "      <td>Own-child</td>\n",
       "      <td>Other</td>\n",
       "      <td>Male</td>\n",
       "      <td>United-States</td>\n",
       "    </tr>\n",
       "    <tr>\n",
       "      <th>2022</th>\n",
       "      <td>Self-emp-not-inc</td>\n",
       "      <td>Assoc-voc</td>\n",
       "      <td>Married-civ-spouse</td>\n",
       "      <td>Farming-fishing</td>\n",
       "      <td>Husband</td>\n",
       "      <td>White</td>\n",
       "      <td>Male</td>\n",
       "      <td>United-States</td>\n",
       "    </tr>\n",
       "    <tr>\n",
       "      <th>1580</th>\n",
       "      <td>Private</td>\n",
       "      <td>Some-college</td>\n",
       "      <td>Never-married</td>\n",
       "      <td>Exec-managerial</td>\n",
       "      <td>Not-in-family</td>\n",
       "      <td>White</td>\n",
       "      <td>Female</td>\n",
       "      <td>United-States</td>\n",
       "    </tr>\n",
       "    <tr>\n",
       "      <th>4612</th>\n",
       "      <td>Private</td>\n",
       "      <td>HS-grad</td>\n",
       "      <td>Separated</td>\n",
       "      <td>Transport-moving</td>\n",
       "      <td>Unmarried</td>\n",
       "      <td>White</td>\n",
       "      <td>Female</td>\n",
       "      <td>United-States</td>\n",
       "    </tr>\n",
       "  </tbody>\n",
       "</table>\n",
       "</div>"
      ],
      "text/plain": [
       "              workclass     education      marital_status        occupation   \n",
       "3833          Local-gov  Some-college  Married-civ-spouse      Adm-clerical  \\\n",
       "34743           Private          10th  Married-civ-spouse      Craft-repair   \n",
       "2022   Self-emp-not-inc     Assoc-voc  Married-civ-spouse   Farming-fishing   \n",
       "1580            Private  Some-college       Never-married   Exec-managerial   \n",
       "4612            Private       HS-grad           Separated  Transport-moving   \n",
       "\n",
       "        relationship   race     sex native_country  \n",
       "3833       Own-child  White  Female  United-States  \n",
       "34743      Own-child  Other    Male  United-States  \n",
       "2022         Husband  White    Male  United-States  \n",
       "1580   Not-in-family  White  Female  United-States  \n",
       "4612       Unmarried  White  Female  United-States  "
      ]
     },
     "execution_count": 43,
     "metadata": {},
     "output_type": "execute_result"
    }
   ],
   "source": [
    "# print categorical variables\n",
    "X_train[categorical].head()"
   ]
  },
  {
   "cell_type": "code",
   "execution_count": 44,
   "metadata": {},
   "outputs": [],
   "source": [
    "# import category encoders\n",
    "import category_encoders as ce\n",
    "\n",
    "# encode remaining variables with one-hot encoding\n",
    "encoder = ce.OneHotEncoder(cols=['workclass', 'education', 'marital_status', 'occupation', 'relationship', \n",
    "                                 'race', 'sex', 'native_country'])\n",
    "\n",
    "X_train = encoder.fit_transform(X_train)\n",
    "X_test = encoder.transform(X_test)"
   ]
  },
  {
   "cell_type": "code",
   "execution_count": 45,
   "metadata": {},
   "outputs": [
    {
     "data": {
      "text/html": [
       "<div>\n",
       "<style scoped>\n",
       "    .dataframe tbody tr th:only-of-type {\n",
       "        vertical-align: middle;\n",
       "    }\n",
       "\n",
       "    .dataframe tbody tr th {\n",
       "        vertical-align: top;\n",
       "    }\n",
       "\n",
       "    .dataframe thead th {\n",
       "        text-align: right;\n",
       "    }\n",
       "</style>\n",
       "<table border=\"1\" class=\"dataframe\">\n",
       "  <thead>\n",
       "    <tr style=\"text-align: right;\">\n",
       "      <th></th>\n",
       "      <th>age</th>\n",
       "      <th>workclass_1</th>\n",
       "      <th>workclass_2</th>\n",
       "      <th>workclass_3</th>\n",
       "      <th>workclass_4</th>\n",
       "      <th>workclass_5</th>\n",
       "      <th>workclass_6</th>\n",
       "      <th>workclass_7</th>\n",
       "      <th>workclass_8</th>\n",
       "      <th>fnlwgt</th>\n",
       "      <th>...</th>\n",
       "      <th>native_country_32</th>\n",
       "      <th>native_country_33</th>\n",
       "      <th>native_country_34</th>\n",
       "      <th>native_country_35</th>\n",
       "      <th>native_country_36</th>\n",
       "      <th>native_country_37</th>\n",
       "      <th>native_country_38</th>\n",
       "      <th>native_country_39</th>\n",
       "      <th>native_country_40</th>\n",
       "      <th>native_country_41</th>\n",
       "    </tr>\n",
       "  </thead>\n",
       "  <tbody>\n",
       "    <tr>\n",
       "      <th>3833</th>\n",
       "      <td>27</td>\n",
       "      <td>1</td>\n",
       "      <td>0</td>\n",
       "      <td>0</td>\n",
       "      <td>0</td>\n",
       "      <td>0</td>\n",
       "      <td>0</td>\n",
       "      <td>0</td>\n",
       "      <td>0</td>\n",
       "      <td>131310</td>\n",
       "      <td>...</td>\n",
       "      <td>0</td>\n",
       "      <td>0</td>\n",
       "      <td>0</td>\n",
       "      <td>0</td>\n",
       "      <td>0</td>\n",
       "      <td>0</td>\n",
       "      <td>0</td>\n",
       "      <td>0</td>\n",
       "      <td>0</td>\n",
       "      <td>0</td>\n",
       "    </tr>\n",
       "    <tr>\n",
       "      <th>34743</th>\n",
       "      <td>42</td>\n",
       "      <td>0</td>\n",
       "      <td>1</td>\n",
       "      <td>0</td>\n",
       "      <td>0</td>\n",
       "      <td>0</td>\n",
       "      <td>0</td>\n",
       "      <td>0</td>\n",
       "      <td>0</td>\n",
       "      <td>367533</td>\n",
       "      <td>...</td>\n",
       "      <td>0</td>\n",
       "      <td>0</td>\n",
       "      <td>0</td>\n",
       "      <td>0</td>\n",
       "      <td>0</td>\n",
       "      <td>0</td>\n",
       "      <td>0</td>\n",
       "      <td>0</td>\n",
       "      <td>0</td>\n",
       "      <td>0</td>\n",
       "    </tr>\n",
       "    <tr>\n",
       "      <th>2022</th>\n",
       "      <td>32</td>\n",
       "      <td>0</td>\n",
       "      <td>0</td>\n",
       "      <td>1</td>\n",
       "      <td>0</td>\n",
       "      <td>0</td>\n",
       "      <td>0</td>\n",
       "      <td>0</td>\n",
       "      <td>0</td>\n",
       "      <td>38158</td>\n",
       "      <td>...</td>\n",
       "      <td>0</td>\n",
       "      <td>0</td>\n",
       "      <td>0</td>\n",
       "      <td>0</td>\n",
       "      <td>0</td>\n",
       "      <td>0</td>\n",
       "      <td>0</td>\n",
       "      <td>0</td>\n",
       "      <td>0</td>\n",
       "      <td>0</td>\n",
       "    </tr>\n",
       "    <tr>\n",
       "      <th>1580</th>\n",
       "      <td>36</td>\n",
       "      <td>0</td>\n",
       "      <td>1</td>\n",
       "      <td>0</td>\n",
       "      <td>0</td>\n",
       "      <td>0</td>\n",
       "      <td>0</td>\n",
       "      <td>0</td>\n",
       "      <td>0</td>\n",
       "      <td>148903</td>\n",
       "      <td>...</td>\n",
       "      <td>0</td>\n",
       "      <td>0</td>\n",
       "      <td>0</td>\n",
       "      <td>0</td>\n",
       "      <td>0</td>\n",
       "      <td>0</td>\n",
       "      <td>0</td>\n",
       "      <td>0</td>\n",
       "      <td>0</td>\n",
       "      <td>0</td>\n",
       "    </tr>\n",
       "    <tr>\n",
       "      <th>4612</th>\n",
       "      <td>29</td>\n",
       "      <td>0</td>\n",
       "      <td>1</td>\n",
       "      <td>0</td>\n",
       "      <td>0</td>\n",
       "      <td>0</td>\n",
       "      <td>0</td>\n",
       "      <td>0</td>\n",
       "      <td>0</td>\n",
       "      <td>359155</td>\n",
       "      <td>...</td>\n",
       "      <td>0</td>\n",
       "      <td>0</td>\n",
       "      <td>0</td>\n",
       "      <td>0</td>\n",
       "      <td>0</td>\n",
       "      <td>0</td>\n",
       "      <td>0</td>\n",
       "      <td>0</td>\n",
       "      <td>0</td>\n",
       "      <td>0</td>\n",
       "    </tr>\n",
       "  </tbody>\n",
       "</table>\n",
       "<p>5 rows × 105 columns</p>\n",
       "</div>"
      ],
      "text/plain": [
       "       age  workclass_1  workclass_2  workclass_3  workclass_4  workclass_5   \n",
       "3833    27            1            0            0            0            0  \\\n",
       "34743   42            0            1            0            0            0   \n",
       "2022    32            0            0            1            0            0   \n",
       "1580    36            0            1            0            0            0   \n",
       "4612    29            0            1            0            0            0   \n",
       "\n",
       "       workclass_6  workclass_7  workclass_8  fnlwgt  ...  native_country_32   \n",
       "3833             0            0            0  131310  ...                  0  \\\n",
       "34743            0            0            0  367533  ...                  0   \n",
       "2022             0            0            0   38158  ...                  0   \n",
       "1580             0            0            0  148903  ...                  0   \n",
       "4612             0            0            0  359155  ...                  0   \n",
       "\n",
       "       native_country_33  native_country_34  native_country_35   \n",
       "3833                   0                  0                  0  \\\n",
       "34743                  0                  0                  0   \n",
       "2022                   0                  0                  0   \n",
       "1580                   0                  0                  0   \n",
       "4612                   0                  0                  0   \n",
       "\n",
       "       native_country_36  native_country_37  native_country_38   \n",
       "3833                   0                  0                  0  \\\n",
       "34743                  0                  0                  0   \n",
       "2022                   0                  0                  0   \n",
       "1580                   0                  0                  0   \n",
       "4612                   0                  0                  0   \n",
       "\n",
       "       native_country_39  native_country_40  native_country_41  \n",
       "3833                   0                  0                  0  \n",
       "34743                  0                  0                  0  \n",
       "2022                   0                  0                  0  \n",
       "1580                   0                  0                  0  \n",
       "4612                   0                  0                  0  \n",
       "\n",
       "[5 rows x 105 columns]"
      ]
     },
     "execution_count": 45,
     "metadata": {},
     "output_type": "execute_result"
    }
   ],
   "source": [
    "#print\n",
    "X_train.head()"
   ]
  },
  {
   "cell_type": "code",
   "execution_count": 46,
   "metadata": {},
   "outputs": [
    {
     "data": {
      "text/plain": [
       "(34189, 105)"
      ]
     },
     "execution_count": 46,
     "metadata": {},
     "output_type": "execute_result"
    }
   ],
   "source": [
    "X_train.shape"
   ]
  },
  {
   "cell_type": "code",
   "execution_count": 47,
   "metadata": {},
   "outputs": [
    {
     "data": {
      "text/plain": [
       "(14653, 105)"
      ]
     },
     "execution_count": 47,
     "metadata": {},
     "output_type": "execute_result"
    }
   ],
   "source": [
    "X_test.shape"
   ]
  },
  {
   "cell_type": "code",
   "execution_count": 48,
   "metadata": {},
   "outputs": [
    {
     "data": {
      "text/html": [
       "<div>\n",
       "<style scoped>\n",
       "    .dataframe tbody tr th:only-of-type {\n",
       "        vertical-align: middle;\n",
       "    }\n",
       "\n",
       "    .dataframe tbody tr th {\n",
       "        vertical-align: top;\n",
       "    }\n",
       "\n",
       "    .dataframe thead th {\n",
       "        text-align: right;\n",
       "    }\n",
       "</style>\n",
       "<table border=\"1\" class=\"dataframe\">\n",
       "  <thead>\n",
       "    <tr style=\"text-align: right;\">\n",
       "      <th></th>\n",
       "      <th>age</th>\n",
       "      <th>workclass_1</th>\n",
       "      <th>workclass_2</th>\n",
       "      <th>workclass_3</th>\n",
       "      <th>workclass_4</th>\n",
       "      <th>workclass_5</th>\n",
       "      <th>workclass_6</th>\n",
       "      <th>workclass_7</th>\n",
       "      <th>workclass_8</th>\n",
       "      <th>fnlwgt</th>\n",
       "      <th>...</th>\n",
       "      <th>native_country_32</th>\n",
       "      <th>native_country_33</th>\n",
       "      <th>native_country_34</th>\n",
       "      <th>native_country_35</th>\n",
       "      <th>native_country_36</th>\n",
       "      <th>native_country_37</th>\n",
       "      <th>native_country_38</th>\n",
       "      <th>native_country_39</th>\n",
       "      <th>native_country_40</th>\n",
       "      <th>native_country_41</th>\n",
       "    </tr>\n",
       "  </thead>\n",
       "  <tbody>\n",
       "    <tr>\n",
       "      <th>38113</th>\n",
       "      <td>36</td>\n",
       "      <td>0</td>\n",
       "      <td>1</td>\n",
       "      <td>0</td>\n",
       "      <td>0</td>\n",
       "      <td>0</td>\n",
       "      <td>0</td>\n",
       "      <td>0</td>\n",
       "      <td>0</td>\n",
       "      <td>65624</td>\n",
       "      <td>...</td>\n",
       "      <td>0</td>\n",
       "      <td>0</td>\n",
       "      <td>0</td>\n",
       "      <td>0</td>\n",
       "      <td>0</td>\n",
       "      <td>0</td>\n",
       "      <td>0</td>\n",
       "      <td>0</td>\n",
       "      <td>0</td>\n",
       "      <td>0</td>\n",
       "    </tr>\n",
       "    <tr>\n",
       "      <th>39214</th>\n",
       "      <td>57</td>\n",
       "      <td>0</td>\n",
       "      <td>0</td>\n",
       "      <td>0</td>\n",
       "      <td>0</td>\n",
       "      <td>1</td>\n",
       "      <td>0</td>\n",
       "      <td>0</td>\n",
       "      <td>0</td>\n",
       "      <td>37345</td>\n",
       "      <td>...</td>\n",
       "      <td>0</td>\n",
       "      <td>0</td>\n",
       "      <td>0</td>\n",
       "      <td>0</td>\n",
       "      <td>0</td>\n",
       "      <td>0</td>\n",
       "      <td>0</td>\n",
       "      <td>0</td>\n",
       "      <td>0</td>\n",
       "      <td>0</td>\n",
       "    </tr>\n",
       "    <tr>\n",
       "      <th>44248</th>\n",
       "      <td>49</td>\n",
       "      <td>0</td>\n",
       "      <td>1</td>\n",
       "      <td>0</td>\n",
       "      <td>0</td>\n",
       "      <td>0</td>\n",
       "      <td>0</td>\n",
       "      <td>0</td>\n",
       "      <td>0</td>\n",
       "      <td>287647</td>\n",
       "      <td>...</td>\n",
       "      <td>0</td>\n",
       "      <td>0</td>\n",
       "      <td>0</td>\n",
       "      <td>0</td>\n",
       "      <td>0</td>\n",
       "      <td>0</td>\n",
       "      <td>0</td>\n",
       "      <td>0</td>\n",
       "      <td>0</td>\n",
       "      <td>0</td>\n",
       "    </tr>\n",
       "    <tr>\n",
       "      <th>10283</th>\n",
       "      <td>54</td>\n",
       "      <td>0</td>\n",
       "      <td>0</td>\n",
       "      <td>1</td>\n",
       "      <td>0</td>\n",
       "      <td>0</td>\n",
       "      <td>0</td>\n",
       "      <td>0</td>\n",
       "      <td>0</td>\n",
       "      <td>183668</td>\n",
       "      <td>...</td>\n",
       "      <td>0</td>\n",
       "      <td>0</td>\n",
       "      <td>0</td>\n",
       "      <td>0</td>\n",
       "      <td>0</td>\n",
       "      <td>0</td>\n",
       "      <td>0</td>\n",
       "      <td>0</td>\n",
       "      <td>0</td>\n",
       "      <td>0</td>\n",
       "    </tr>\n",
       "    <tr>\n",
       "      <th>26724</th>\n",
       "      <td>17</td>\n",
       "      <td>0</td>\n",
       "      <td>0</td>\n",
       "      <td>1</td>\n",
       "      <td>0</td>\n",
       "      <td>0</td>\n",
       "      <td>0</td>\n",
       "      <td>0</td>\n",
       "      <td>0</td>\n",
       "      <td>228786</td>\n",
       "      <td>...</td>\n",
       "      <td>0</td>\n",
       "      <td>0</td>\n",
       "      <td>0</td>\n",
       "      <td>0</td>\n",
       "      <td>0</td>\n",
       "      <td>0</td>\n",
       "      <td>0</td>\n",
       "      <td>0</td>\n",
       "      <td>0</td>\n",
       "      <td>0</td>\n",
       "    </tr>\n",
       "  </tbody>\n",
       "</table>\n",
       "<p>5 rows × 105 columns</p>\n",
       "</div>"
      ],
      "text/plain": [
       "       age  workclass_1  workclass_2  workclass_3  workclass_4  workclass_5   \n",
       "38113   36            0            1            0            0            0  \\\n",
       "39214   57            0            0            0            0            1   \n",
       "44248   49            0            1            0            0            0   \n",
       "10283   54            0            0            1            0            0   \n",
       "26724   17            0            0            1            0            0   \n",
       "\n",
       "       workclass_6  workclass_7  workclass_8  fnlwgt  ...  native_country_32   \n",
       "38113            0            0            0   65624  ...                  0  \\\n",
       "39214            0            0            0   37345  ...                  0   \n",
       "44248            0            0            0  287647  ...                  0   \n",
       "10283            0            0            0  183668  ...                  0   \n",
       "26724            0            0            0  228786  ...                  0   \n",
       "\n",
       "       native_country_33  native_country_34  native_country_35   \n",
       "38113                  0                  0                  0  \\\n",
       "39214                  0                  0                  0   \n",
       "44248                  0                  0                  0   \n",
       "10283                  0                  0                  0   \n",
       "26724                  0                  0                  0   \n",
       "\n",
       "       native_country_36  native_country_37  native_country_38   \n",
       "38113                  0                  0                  0  \\\n",
       "39214                  0                  0                  0   \n",
       "44248                  0                  0                  0   \n",
       "10283                  0                  0                  0   \n",
       "26724                  0                  0                  0   \n",
       "\n",
       "       native_country_39  native_country_40  native_country_41  \n",
       "38113                  0                  0                  0  \n",
       "39214                  0                  0                  0  \n",
       "44248                  0                  0                  0  \n",
       "10283                  0                  0                  0  \n",
       "26724                  0                  0                  0  \n",
       "\n",
       "[5 rows x 105 columns]"
      ]
     },
     "execution_count": 48,
     "metadata": {},
     "output_type": "execute_result"
    }
   ],
   "source": [
    "X_test.head()"
   ]
  },
  {
   "cell_type": "markdown",
   "metadata": {},
   "source": [
    "<h4> Feature Scaling"
   ]
  },
  {
   "cell_type": "code",
   "execution_count": 49,
   "metadata": {},
   "outputs": [
    {
     "data": {
      "text/html": [
       "<div>\n",
       "<style scoped>\n",
       "    .dataframe tbody tr th:only-of-type {\n",
       "        vertical-align: middle;\n",
       "    }\n",
       "\n",
       "    .dataframe tbody tr th {\n",
       "        vertical-align: top;\n",
       "    }\n",
       "\n",
       "    .dataframe thead tr th {\n",
       "        text-align: left;\n",
       "    }\n",
       "</style>\n",
       "<table border=\"1\" class=\"dataframe\">\n",
       "  <thead>\n",
       "    <tr>\n",
       "      <th></th>\n",
       "      <th>age</th>\n",
       "      <th>workclass_1</th>\n",
       "      <th>workclass_2</th>\n",
       "      <th>workclass_3</th>\n",
       "      <th>workclass_4</th>\n",
       "      <th>workclass_5</th>\n",
       "      <th>workclass_6</th>\n",
       "      <th>workclass_7</th>\n",
       "      <th>workclass_8</th>\n",
       "      <th>fnlwgt</th>\n",
       "      <th>...</th>\n",
       "      <th>native_country_32</th>\n",
       "      <th>native_country_33</th>\n",
       "      <th>native_country_34</th>\n",
       "      <th>native_country_35</th>\n",
       "      <th>native_country_36</th>\n",
       "      <th>native_country_37</th>\n",
       "      <th>native_country_38</th>\n",
       "      <th>native_country_39</th>\n",
       "      <th>native_country_40</th>\n",
       "      <th>native_country_41</th>\n",
       "    </tr>\n",
       "  </thead>\n",
       "  <tbody>\n",
       "    <tr>\n",
       "      <th>0</th>\n",
       "      <td>-0.50</td>\n",
       "      <td>1.0</td>\n",
       "      <td>-1.0</td>\n",
       "      <td>0.0</td>\n",
       "      <td>0.0</td>\n",
       "      <td>0.0</td>\n",
       "      <td>0.0</td>\n",
       "      <td>0.0</td>\n",
       "      <td>0.0</td>\n",
       "      <td>-0.387237</td>\n",
       "      <td>...</td>\n",
       "      <td>0.0</td>\n",
       "      <td>0.0</td>\n",
       "      <td>0.0</td>\n",
       "      <td>0.0</td>\n",
       "      <td>0.0</td>\n",
       "      <td>0.0</td>\n",
       "      <td>0.0</td>\n",
       "      <td>0.0</td>\n",
       "      <td>0.0</td>\n",
       "      <td>0.0</td>\n",
       "    </tr>\n",
       "    <tr>\n",
       "      <th>1</th>\n",
       "      <td>0.25</td>\n",
       "      <td>0.0</td>\n",
       "      <td>0.0</td>\n",
       "      <td>0.0</td>\n",
       "      <td>0.0</td>\n",
       "      <td>0.0</td>\n",
       "      <td>0.0</td>\n",
       "      <td>0.0</td>\n",
       "      <td>0.0</td>\n",
       "      <td>1.575857</td>\n",
       "      <td>...</td>\n",
       "      <td>0.0</td>\n",
       "      <td>0.0</td>\n",
       "      <td>0.0</td>\n",
       "      <td>0.0</td>\n",
       "      <td>0.0</td>\n",
       "      <td>0.0</td>\n",
       "      <td>0.0</td>\n",
       "      <td>0.0</td>\n",
       "      <td>0.0</td>\n",
       "      <td>0.0</td>\n",
       "    </tr>\n",
       "    <tr>\n",
       "      <th>2</th>\n",
       "      <td>-0.25</td>\n",
       "      <td>0.0</td>\n",
       "      <td>-1.0</td>\n",
       "      <td>1.0</td>\n",
       "      <td>0.0</td>\n",
       "      <td>0.0</td>\n",
       "      <td>0.0</td>\n",
       "      <td>0.0</td>\n",
       "      <td>0.0</td>\n",
       "      <td>-1.161362</td>\n",
       "      <td>...</td>\n",
       "      <td>0.0</td>\n",
       "      <td>0.0</td>\n",
       "      <td>0.0</td>\n",
       "      <td>0.0</td>\n",
       "      <td>0.0</td>\n",
       "      <td>0.0</td>\n",
       "      <td>0.0</td>\n",
       "      <td>0.0</td>\n",
       "      <td>0.0</td>\n",
       "      <td>0.0</td>\n",
       "    </tr>\n",
       "    <tr>\n",
       "      <th>3</th>\n",
       "      <td>-0.05</td>\n",
       "      <td>0.0</td>\n",
       "      <td>0.0</td>\n",
       "      <td>0.0</td>\n",
       "      <td>0.0</td>\n",
       "      <td>0.0</td>\n",
       "      <td>0.0</td>\n",
       "      <td>0.0</td>\n",
       "      <td>0.0</td>\n",
       "      <td>-0.241033</td>\n",
       "      <td>...</td>\n",
       "      <td>0.0</td>\n",
       "      <td>0.0</td>\n",
       "      <td>0.0</td>\n",
       "      <td>0.0</td>\n",
       "      <td>0.0</td>\n",
       "      <td>0.0</td>\n",
       "      <td>0.0</td>\n",
       "      <td>0.0</td>\n",
       "      <td>0.0</td>\n",
       "      <td>0.0</td>\n",
       "    </tr>\n",
       "    <tr>\n",
       "      <th>4</th>\n",
       "      <td>-0.40</td>\n",
       "      <td>0.0</td>\n",
       "      <td>0.0</td>\n",
       "      <td>0.0</td>\n",
       "      <td>0.0</td>\n",
       "      <td>0.0</td>\n",
       "      <td>0.0</td>\n",
       "      <td>0.0</td>\n",
       "      <td>0.0</td>\n",
       "      <td>1.506233</td>\n",
       "      <td>...</td>\n",
       "      <td>0.0</td>\n",
       "      <td>0.0</td>\n",
       "      <td>0.0</td>\n",
       "      <td>0.0</td>\n",
       "      <td>0.0</td>\n",
       "      <td>0.0</td>\n",
       "      <td>0.0</td>\n",
       "      <td>0.0</td>\n",
       "      <td>0.0</td>\n",
       "      <td>0.0</td>\n",
       "    </tr>\n",
       "  </tbody>\n",
       "</table>\n",
       "<p>5 rows × 105 columns</p>\n",
       "</div>"
      ],
      "text/plain": [
       "    age workclass_1 workclass_2 workclass_3 workclass_4 workclass_5   \n",
       "0 -0.50         1.0        -1.0         0.0         0.0         0.0  \\\n",
       "1  0.25         0.0         0.0         0.0         0.0         0.0   \n",
       "2 -0.25         0.0        -1.0         1.0         0.0         0.0   \n",
       "3 -0.05         0.0         0.0         0.0         0.0         0.0   \n",
       "4 -0.40         0.0         0.0         0.0         0.0         0.0   \n",
       "\n",
       "  workclass_6 workclass_7 workclass_8    fnlwgt  ... native_country_32   \n",
       "0         0.0         0.0         0.0 -0.387237  ...               0.0  \\\n",
       "1         0.0         0.0         0.0  1.575857  ...               0.0   \n",
       "2         0.0         0.0         0.0 -1.161362  ...               0.0   \n",
       "3         0.0         0.0         0.0 -0.241033  ...               0.0   \n",
       "4         0.0         0.0         0.0  1.506233  ...               0.0   \n",
       "\n",
       "  native_country_33 native_country_34 native_country_35 native_country_36   \n",
       "0               0.0               0.0               0.0               0.0  \\\n",
       "1               0.0               0.0               0.0               0.0   \n",
       "2               0.0               0.0               0.0               0.0   \n",
       "3               0.0               0.0               0.0               0.0   \n",
       "4               0.0               0.0               0.0               0.0   \n",
       "\n",
       "  native_country_37 native_country_38 native_country_39 native_country_40   \n",
       "0               0.0               0.0               0.0               0.0  \\\n",
       "1               0.0               0.0               0.0               0.0   \n",
       "2               0.0               0.0               0.0               0.0   \n",
       "3               0.0               0.0               0.0               0.0   \n",
       "4               0.0               0.0               0.0               0.0   \n",
       "\n",
       "  native_country_41  \n",
       "0               0.0  \n",
       "1               0.0  \n",
       "2               0.0  \n",
       "3               0.0  \n",
       "4               0.0  \n",
       "\n",
       "[5 rows x 105 columns]"
      ]
     },
     "execution_count": 49,
     "metadata": {},
     "output_type": "execute_result"
    }
   ],
   "source": [
    "cols = X_train.columns\n",
    "\n",
    "from sklearn.preprocessing import RobustScaler\n",
    "scaler = RobustScaler()\n",
    "X_train = scaler.fit_transform(X_train)\n",
    "X_test = scaler.transform(X_test)\n",
    "X_train = pd.DataFrame(X_train, columns=[cols])\n",
    "X_test = pd.DataFrame(X_test, columns=[cols])\n",
    "X_train.head()"
   ]
  },
  {
   "cell_type": "markdown",
   "metadata": {},
   "source": [
    "<h2> Model training"
   ]
  },
  {
   "cell_type": "code",
   "execution_count": 50,
   "metadata": {},
   "outputs": [
    {
     "data": {
      "text/html": [
       "<style>#sk-container-id-1 {color: black;}#sk-container-id-1 pre{padding: 0;}#sk-container-id-1 div.sk-toggleable {background-color: white;}#sk-container-id-1 label.sk-toggleable__label {cursor: pointer;display: block;width: 100%;margin-bottom: 0;padding: 0.3em;box-sizing: border-box;text-align: center;}#sk-container-id-1 label.sk-toggleable__label-arrow:before {content: \"▸\";float: left;margin-right: 0.25em;color: #696969;}#sk-container-id-1 label.sk-toggleable__label-arrow:hover:before {color: black;}#sk-container-id-1 div.sk-estimator:hover label.sk-toggleable__label-arrow:before {color: black;}#sk-container-id-1 div.sk-toggleable__content {max-height: 0;max-width: 0;overflow: hidden;text-align: left;background-color: #f0f8ff;}#sk-container-id-1 div.sk-toggleable__content pre {margin: 0.2em;color: black;border-radius: 0.25em;background-color: #f0f8ff;}#sk-container-id-1 input.sk-toggleable__control:checked~div.sk-toggleable__content {max-height: 200px;max-width: 100%;overflow: auto;}#sk-container-id-1 input.sk-toggleable__control:checked~label.sk-toggleable__label-arrow:before {content: \"▾\";}#sk-container-id-1 div.sk-estimator input.sk-toggleable__control:checked~label.sk-toggleable__label {background-color: #d4ebff;}#sk-container-id-1 div.sk-label input.sk-toggleable__control:checked~label.sk-toggleable__label {background-color: #d4ebff;}#sk-container-id-1 input.sk-hidden--visually {border: 0;clip: rect(1px 1px 1px 1px);clip: rect(1px, 1px, 1px, 1px);height: 1px;margin: -1px;overflow: hidden;padding: 0;position: absolute;width: 1px;}#sk-container-id-1 div.sk-estimator {font-family: monospace;background-color: #f0f8ff;border: 1px dotted black;border-radius: 0.25em;box-sizing: border-box;margin-bottom: 0.5em;}#sk-container-id-1 div.sk-estimator:hover {background-color: #d4ebff;}#sk-container-id-1 div.sk-parallel-item::after {content: \"\";width: 100%;border-bottom: 1px solid gray;flex-grow: 1;}#sk-container-id-1 div.sk-label:hover label.sk-toggleable__label {background-color: #d4ebff;}#sk-container-id-1 div.sk-serial::before {content: \"\";position: absolute;border-left: 1px solid gray;box-sizing: border-box;top: 0;bottom: 0;left: 50%;z-index: 0;}#sk-container-id-1 div.sk-serial {display: flex;flex-direction: column;align-items: center;background-color: white;padding-right: 0.2em;padding-left: 0.2em;position: relative;}#sk-container-id-1 div.sk-item {position: relative;z-index: 1;}#sk-container-id-1 div.sk-parallel {display: flex;align-items: stretch;justify-content: center;background-color: white;position: relative;}#sk-container-id-1 div.sk-item::before, #sk-container-id-1 div.sk-parallel-item::before {content: \"\";position: absolute;border-left: 1px solid gray;box-sizing: border-box;top: 0;bottom: 0;left: 50%;z-index: -1;}#sk-container-id-1 div.sk-parallel-item {display: flex;flex-direction: column;z-index: 1;position: relative;background-color: white;}#sk-container-id-1 div.sk-parallel-item:first-child::after {align-self: flex-end;width: 50%;}#sk-container-id-1 div.sk-parallel-item:last-child::after {align-self: flex-start;width: 50%;}#sk-container-id-1 div.sk-parallel-item:only-child::after {width: 0;}#sk-container-id-1 div.sk-dashed-wrapped {border: 1px dashed gray;margin: 0 0.4em 0.5em 0.4em;box-sizing: border-box;padding-bottom: 0.4em;background-color: white;}#sk-container-id-1 div.sk-label label {font-family: monospace;font-weight: bold;display: inline-block;line-height: 1.2em;}#sk-container-id-1 div.sk-label-container {text-align: center;}#sk-container-id-1 div.sk-container {/* jupyter's `normalize.less` sets `[hidden] { display: none; }` but bootstrap.min.css set `[hidden] { display: none !important; }` so we also need the `!important` here to be able to override the default hidden behavior on the sphinx rendered scikit-learn.org. See: https://github.com/scikit-learn/scikit-learn/issues/21755 */display: inline-block !important;position: relative;}#sk-container-id-1 div.sk-text-repr-fallback {display: none;}</style><div id=\"sk-container-id-1\" class=\"sk-top-container\"><div class=\"sk-text-repr-fallback\"><pre>GaussianNB()</pre><b>In a Jupyter environment, please rerun this cell to show the HTML representation or trust the notebook. <br />On GitHub, the HTML representation is unable to render, please try loading this page with nbviewer.org.</b></div><div class=\"sk-container\" hidden><div class=\"sk-item\"><div class=\"sk-estimator sk-toggleable\"><input class=\"sk-toggleable__control sk-hidden--visually\" id=\"sk-estimator-id-1\" type=\"checkbox\" checked><label for=\"sk-estimator-id-1\" class=\"sk-toggleable__label sk-toggleable__label-arrow\">GaussianNB</label><div class=\"sk-toggleable__content\"><pre>GaussianNB()</pre></div></div></div></div></div>"
      ],
      "text/plain": [
       "GaussianNB()"
      ]
     },
     "execution_count": 50,
     "metadata": {},
     "output_type": "execute_result"
    }
   ],
   "source": [
    "# train a Gaussian Naive Bayes classifier on the training set\n",
    "from sklearn.naive_bayes import GaussianNB\n",
    "\n",
    "# instantiate the model\n",
    "gnb = GaussianNB()\n",
    "\n",
    "# fit the model\n",
    "gnb.fit(X_train, y_train)"
   ]
  },
  {
   "cell_type": "markdown",
   "metadata": {},
   "source": [
    "<h2>Predictions and Evaluations"
   ]
  },
  {
   "cell_type": "code",
   "execution_count": 51,
   "metadata": {},
   "outputs": [
    {
     "name": "stdout",
     "output_type": "stream",
     "text": [
      "Naive Predictor: [Accuracy score: 0.2393, F-score: 0.2822]\n"
     ]
    }
   ],
   "source": [
    "# Performance Evaluation\n",
    "# Counting the ones as this is the naive case. Note that 'income' is the 'income_raw' data encoded to numerical values done in the data preprocessing step.\n",
    "TP = np.sum(income) \n",
    "# Specific to the naive case\n",
    "FP = income.count() - TP\n",
    "# No predicted negatives in the naive case\n",
    "TN = 0 \n",
    "FN = 0 \n",
    "\n",
    "# Calculate accuracy, precision and recall\n",
    "accuracy = TP / (TP + FP + TN + FN)\n",
    "recall = TP / (TP + FN)\n",
    "precision = TP / (TP + FP)\n",
    "\n",
    "# Calculate F-score using the formula above for beta = 0.5 and correct values for precision and recall.\n",
    "beta = 0.5\n",
    "fscore = (1 + beta**2) * ((precision * recall) / ((beta**2) * precision + recall))\n",
    "\n",
    "# Print the results \n",
    "print(\"Naive Predictor: [Accuracy score: {:.4f}, F-score: {:.4f}]\".format(accuracy, fscore))"
   ]
  },
  {
   "cell_type": "markdown",
   "metadata": {},
   "source": [
    "<h4> Predict the results"
   ]
  },
  {
   "cell_type": "code",
   "execution_count": 52,
   "metadata": {},
   "outputs": [
    {
     "data": {
      "text/plain": [
       "array(['<=50K', '>50K', '>50K', ..., '<=50K', '<=50K', '<=50K'],\n",
       "      dtype='<U5')"
      ]
     },
     "execution_count": 52,
     "metadata": {},
     "output_type": "execute_result"
    }
   ],
   "source": [
    "y_pred = gnb.predict(X_test)\n",
    "y_pred"
   ]
  },
  {
   "cell_type": "markdown",
   "metadata": {},
   "source": [
    "<h4> Check accuracy score"
   ]
  },
  {
   "cell_type": "code",
   "execution_count": 53,
   "metadata": {},
   "outputs": [
    {
     "name": "stdout",
     "output_type": "stream",
     "text": [
      "Model accuracy score: 0.7984\n"
     ]
    }
   ],
   "source": [
    "from sklearn.metrics import accuracy_score\n",
    "\n",
    "print('Model accuracy score: {0:0.4f}'. format(accuracy_score(y_test, y_pred)))"
   ]
  },
  {
   "cell_type": "code",
   "execution_count": 54,
   "metadata": {},
   "outputs": [
    {
     "name": "stdout",
     "output_type": "stream",
     "text": [
      "Training-set accuracy score: 0.8012\n"
     ]
    }
   ],
   "source": [
    "# compare the train-set and test-set accuracy\n",
    "y_pred_train = gnb.predict(X_train)\n",
    "y_pred_train\n",
    "print('Training-set accuracy score: {0:0.4f}'. format(accuracy_score(y_train, y_pred_train)))"
   ]
  },
  {
   "cell_type": "code",
   "execution_count": 55,
   "metadata": {},
   "outputs": [
    {
     "name": "stdout",
     "output_type": "stream",
     "text": [
      "Training set score: 0.8012\n",
      "Test set score: 0.7984\n"
     ]
    }
   ],
   "source": [
    "# Check for overfitting and underfitting\n",
    "# print the scores on training and test set\n",
    "\n",
    "print('Training set score: {:.4f}'.format(gnb.score(X_train, y_train)))\n",
    "\n",
    "print('Test set score: {:.4f}'.format(gnb.score(X_test, y_test)))"
   ]
  },
  {
   "cell_type": "code",
   "execution_count": 56,
   "metadata": {},
   "outputs": [
    {
     "data": {
      "text/plain": [
       "income\n",
       "<=50K    11138\n",
       ">50K      3515\n",
       "Name: count, dtype: int64"
      ]
     },
     "execution_count": 56,
     "metadata": {},
     "output_type": "execute_result"
    }
   ],
   "source": [
    "# Compare model accuracy with null accuracy\n",
    "# check class distribution in test set\n",
    "y_test.value_counts()"
   ]
  },
  {
   "cell_type": "code",
   "execution_count": 57,
   "metadata": {},
   "outputs": [
    {
     "name": "stdout",
     "output_type": "stream",
     "text": [
      "Accuracy score on testing data 0.7984\n"
     ]
    }
   ],
   "source": [
    "# Make predictions using the model\n",
    "predictions = (gnb.fit(X_train, y_train)).predict(X_test)\n",
    "\n",
    "# Report accuracy and fscore\n",
    "print(\"Accuracy score on testing data {:.4f}\".format(accuracy_score(y_test, predictions)))\n",
    "#print(\"F-score on testing data: {:.4f}\".format(fbeta_score(y_test, predictions, beta = 0.5)))"
   ]
  },
  {
   "cell_type": "markdown",
   "metadata": {},
   "source": [
    "<h4> Confusion matrix"
   ]
  },
  {
   "cell_type": "code",
   "execution_count": 58,
   "metadata": {},
   "outputs": [
    {
     "name": "stdout",
     "output_type": "stream",
     "text": [
      "Confusion matrix\n",
      "\n",
      " [[8871 2267]\n",
      " [ 687 2828]]\n",
      "\n",
      "True Positives(TP) =  8871\n",
      "\n",
      "True Negatives(TN) =  2828\n",
      "\n",
      "False Positives(FP) =  2267\n",
      "\n",
      "False Negatives(FN) =  687\n"
     ]
    }
   ],
   "source": [
    "# Print the Confusion Matrix and slice it into four pieces\n",
    "from sklearn.metrics import confusion_matrix\n",
    "cm = confusion_matrix(y_test, y_pred)\n",
    "print('Confusion matrix\\n\\n', cm)\n",
    "print('\\nTrue Positives(TP) = ', cm[0,0])\n",
    "print('\\nTrue Negatives(TN) = ', cm[1,1])\n",
    "print('\\nFalse Positives(FP) = ', cm[0,1])\n",
    "print('\\nFalse Negatives(FN) = ', cm[1,0])"
   ]
  },
  {
   "cell_type": "code",
   "execution_count": 59,
   "metadata": {},
   "outputs": [
    {
     "data": {
      "text/plain": [
       "<Axes: >"
      ]
     },
     "execution_count": 59,
     "metadata": {},
     "output_type": "execute_result"
    },
    {
     "data": {
      "image/png": "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",
      "text/plain": [
       "<Figure size 640x480 with 2 Axes>"
      ]
     },
     "metadata": {},
     "output_type": "display_data"
    }
   ],
   "source": [
    "# visualize confusion matrix with seaborn heatmap\n",
    "cm_matrix = pd.DataFrame(data=cm, columns=['Actual Positive:1', 'Actual Negative:0'], \n",
    "                                 index=['Predict Positive:1', 'Predict Negative:0'])\n",
    "sns.heatmap(cm_matrix, annot=True, fmt='d', cmap='YlGnBu')"
   ]
  },
  {
   "cell_type": "markdown",
   "metadata": {},
   "source": [
    "<h4> Classification metrices"
   ]
  },
  {
   "cell_type": "code",
   "execution_count": 60,
   "metadata": {},
   "outputs": [
    {
     "name": "stdout",
     "output_type": "stream",
     "text": [
      "              precision    recall  f1-score   support\n",
      "\n",
      "       <=50K       0.93      0.80      0.86     11138\n",
      "        >50K       0.56      0.80      0.66      3515\n",
      "\n",
      "    accuracy                           0.80     14653\n",
      "   macro avg       0.74      0.80      0.76     14653\n",
      "weighted avg       0.84      0.80      0.81     14653\n",
      "\n"
     ]
    }
   ],
   "source": [
    "from sklearn.metrics import classification_report\n",
    "print(classification_report(y_test, y_pred))"
   ]
  },
  {
   "cell_type": "code",
   "execution_count": 61,
   "metadata": {},
   "outputs": [
    {
     "name": "stdout",
     "output_type": "stream",
     "text": [
      "Classification accuracy : 0.7984\n"
     ]
    }
   ],
   "source": [
    "TP = cm[0,0]\n",
    "TN = cm[1,1]\n",
    "FP = cm[0,1]\n",
    "FN = cm[1,0]\n",
    "\n",
    "# print classification accuracy\n",
    "classification_accuracy = (TP + TN) / float(TP + TN + FP + FN)\n",
    "print('Classification accuracy : {0:0.4f}'.format(classification_accuracy))"
   ]
  },
  {
   "cell_type": "code",
   "execution_count": 62,
   "metadata": {},
   "outputs": [
    {
     "name": "stdout",
     "output_type": "stream",
     "text": [
      "Classification error : 0.2016\n"
     ]
    }
   ],
   "source": [
    "# print classification error\n",
    "classification_error = (FP + FN) / float(TP + TN + FP + FN)\n",
    "print('Classification error : {0:0.4f}'.format(classification_error))"
   ]
  },
  {
   "cell_type": "markdown",
   "metadata": {},
   "source": [
    "<h4> Class probabilities"
   ]
  },
  {
   "cell_type": "code",
   "execution_count": 63,
   "metadata": {},
   "outputs": [],
   "source": [
    "y_pred_prob = gnb.predict_proba(X_test)[0:10]\n",
    "# store the probabilities in dataframe\n",
    "y_pred_prob_df = pd.DataFrame(data=y_pred_prob, columns=['Prob of - <=50K', 'Prob of - >50K'])\n",
    "\n",
    "# store the predicted probabilities for class 1 - Probability of >50K\n",
    "y_pred1 = gnb.predict_proba(X_test)[:, 1]"
   ]
  },
  {
   "cell_type": "code",
   "execution_count": 64,
   "metadata": {},
   "outputs": [
    {
     "data": {
      "text/plain": [
       "Text(0, 0.5, 'Frequency')"
      ]
     },
     "execution_count": 64,
     "metadata": {},
     "output_type": "execute_result"
    },
    {
     "data": {
      "image/png": "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",
      "text/plain": [
       "<Figure size 640x480 with 1 Axes>"
      ]
     },
     "metadata": {},
     "output_type": "display_data"
    }
   ],
   "source": [
    "# plot histogram of predicted probabilities\n",
    "\n",
    "# adjust the font size \n",
    "plt.rcParams['font.size'] = 12\n",
    "\n",
    "# plot histogram with 10 bins\n",
    "plt.hist(y_pred1, bins = 10)\n",
    "\n",
    "# set the title of predicted probabilities\n",
    "plt.title('Histogram of predicted probabilities of salaries >50K')\n",
    "\n",
    "# set the x-axis limit\n",
    "plt.xlim(0,1)\n",
    "\n",
    "# set the title\n",
    "plt.xlabel('Predicted probabilities of salaries >50K')\n",
    "plt.ylabel('Frequency')"
   ]
  },
  {
   "cell_type": "markdown",
   "metadata": {},
   "source": [
    "<h2> Explainability with Interpret"
   ]
  },
  {
   "cell_type": "markdown",
   "metadata": {},
   "source": []
  }
 ],
 "metadata": {
  "kernelspec": {
   "display_name": "ex01",
   "language": "python",
   "name": "python3"
  },
  "language_info": {
   "codemirror_mode": {
    "name": "ipython",
    "version": 3
   },
   "file_extension": ".py",
   "mimetype": "text/x-python",
   "name": "python",
   "nbconvert_exporter": "python",
   "pygments_lexer": "ipython3",
   "version": "3.9.16"
  }
 },
 "nbformat": 4,
 "nbformat_minor": 2
}
