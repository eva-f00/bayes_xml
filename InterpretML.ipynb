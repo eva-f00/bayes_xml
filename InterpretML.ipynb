{
 "cells": [
  {
   "cell_type": "markdown",
   "metadata": {},
   "source": [
    "<h2> Interpret ML"
   ]
  },
  {
   "cell_type": "code",
   "execution_count": 1,
   "metadata": {},
   "outputs": [],
   "source": [
    "#in the following code, a Gaussian Naive Bayes Classifier will be build to predict whether a person makes over 50K a year\n",
    "\n",
    "import numpy as np # linear algebra\n",
    "import pandas as pd # data processing, CSV file I/O (e.g. pd.read_csv), Python data analysis library\n",
    "import matplotlib.pyplot as plt # for data visualization purposes\n",
    "from sklearn.metrics import confusion_matrix, classification_report, ConfusionMatrixDisplay, accuracy_score, f1_score, roc_auc_score\n",
    "from sklearn.model_selection import train_test_split\n",
    "from interpret.data import ClassHistogram\n",
    "from interpret.data import Marginal\n",
    "from interpret import show\n",
    "from interpret.glassbox import ExplainableBoostingClassifier\n",
    "from interpret.perf import RegressionPerf"
   ]
  },
  {
   "cell_type": "markdown",
   "metadata": {},
   "source": [
    "<h2> Loading the dataset"
   ]
  },
  {
   "cell_type": "code",
   "execution_count": 2,
   "metadata": {},
   "outputs": [
    {
     "name": "stdout",
     "output_type": "stream",
     "text": [
      "   age  workclass  fnlwgt     education  educational-num      marital-status   \n",
      "0   25    Private  226802          11th                7       Never-married  \\\n",
      "1   38    Private   89814       HS-grad                9  Married-civ-spouse   \n",
      "2   28  Local-gov  336951    Assoc-acdm               12  Married-civ-spouse   \n",
      "3   44    Private  160323  Some-college               10  Married-civ-spouse   \n",
      "4   18          ?  103497  Some-college               10       Never-married   \n",
      "\n",
      "          occupation relationship   race  gender  capital-gain  capital-loss   \n",
      "0  Machine-op-inspct    Own-child  Black    Male             0             0  \\\n",
      "1    Farming-fishing      Husband  White    Male             0             0   \n",
      "2    Protective-serv      Husband  White    Male             0             0   \n",
      "3  Machine-op-inspct      Husband  Black    Male          7688             0   \n",
      "4                  ?    Own-child  White  Female             0             0   \n",
      "\n",
      "   hours-per-week native-country income  \n",
      "0              40  United-States  <=50K  \n",
      "1              50  United-States  <=50K  \n",
      "2              40  United-States   >50K  \n",
      "3              40  United-States   >50K  \n",
      "4              30  United-States  <=50K  \n"
     ]
    }
   ],
   "source": [
    "#import dataset\n",
    "path = 'C:/Users/evafi/bayes_xml/dataset/adult_income_dataset.csv'\n",
    "data = pd.read_csv(path, sep=\",\")\n",
    "#top 5 of each column\n",
    "print(data.head())"
   ]
  },
  {
   "cell_type": "code",
   "execution_count": 3,
   "metadata": {},
   "outputs": [
    {
     "data": {
      "text/plain": [
       "Index(['Age', 'WorkClass', 'fnlwgt', 'Education', 'EducationNum',\n",
       "       'MaritalStatus', 'Occupation', 'Relationship', 'Race', 'Gender',\n",
       "       'CapitalGain', 'CapitalLoss', 'HoursPerWeek', 'NativeCountry',\n",
       "       'Income'],\n",
       "      dtype='object')"
      ]
     },
     "execution_count": 3,
     "metadata": {},
     "output_type": "execute_result"
    }
   ],
   "source": [
    "#rename column names\n",
    "col_names = [\"Age\", \"WorkClass\", \"fnlwgt\", \"Education\", \"EducationNum\",\n",
    "    \"MaritalStatus\", \"Occupation\", \"Relationship\", \"Race\", \"Gender\",\n",
    "    \"CapitalGain\", \"CapitalLoss\", \"HoursPerWeek\", \"NativeCountry\", \"Income\"]\n",
    "data.columns = col_names\n",
    "data.columns"
   ]
  },
  {
   "cell_type": "code",
   "execution_count": 4,
   "metadata": {},
   "outputs": [
    {
     "name": "stdout",
     "output_type": "stream",
     "text": [
      "<class 'pandas.core.frame.DataFrame'>\n",
      "RangeIndex: 48842 entries, 0 to 48841\n",
      "Data columns (total 15 columns):\n",
      " #   Column         Non-Null Count  Dtype \n",
      "---  ------         --------------  ----- \n",
      " 0   Age            48842 non-null  int64 \n",
      " 1   WorkClass      48842 non-null  object\n",
      " 2   fnlwgt         48842 non-null  int64 \n",
      " 3   Education      48842 non-null  object\n",
      " 4   EducationNum   48842 non-null  int64 \n",
      " 5   MaritalStatus  48842 non-null  object\n",
      " 6   Occupation     48842 non-null  object\n",
      " 7   Relationship   48842 non-null  object\n",
      " 8   Race           48842 non-null  object\n",
      " 9   Gender         48842 non-null  object\n",
      " 10  CapitalGain    48842 non-null  int64 \n",
      " 11  CapitalLoss    48842 non-null  int64 \n",
      " 12  HoursPerWeek   48842 non-null  int64 \n",
      " 13  NativeCountry  48842 non-null  object\n",
      " 14  Income         48842 non-null  object\n",
      "dtypes: int64(6), object(9)\n",
      "memory usage: 5.6+ MB\n"
     ]
    }
   ],
   "source": [
    "data.info()"
   ]
  },
  {
   "cell_type": "code",
   "execution_count": 5,
   "metadata": {},
   "outputs": [
    {
     "name": "stdout",
     "output_type": "stream",
     "text": [
      "WorkClass\n",
      "2799\n",
      "5.73%\n",
      "Occupation\n",
      "2809\n",
      "5.75%\n",
      "NativeCountry\n",
      "857\n",
      "1.75%\n"
     ]
    }
   ],
   "source": [
    "col_n = data.columns\n",
    "num_data = data.shape[0]\n",
    "for c in col_n:\n",
    "    num_non = data[c].isin([\"?\"]).sum()\n",
    "    if num_non > 0:\n",
    "        print(c)\n",
    "        print(num_non)\n",
    "        print(\"{0:.2f}%\".format(float(num_non) / num_data * 100))"
   ]
  },
  {
   "cell_type": "code",
   "execution_count": 6,
   "metadata": {},
   "outputs": [],
   "source": [
    "# replace '?' values in workclass variable with `NaN`\n",
    "data['WorkClass'].replace('?', np.NaN, inplace=True)\n",
    "# replace '?' values in occupation variable with `NaN`\n",
    "data['Occupation'].replace('?', np.NaN, inplace=True)\n",
    "# replace '?' values in native_country variable with `NaN`\n",
    "data['NativeCountry'].replace('?', np.NaN, inplace=True)"
   ]
  },
  {
   "cell_type": "markdown",
   "metadata": {},
   "source": [
    "<h2>Building the Model"
   ]
  },
  {
   "cell_type": "code",
   "execution_count": 7,
   "metadata": {},
   "outputs": [],
   "source": [
    "X = data.iloc[:, :-1]\n",
    "#y = data.iloc[:, -1]\n",
    "income = data['Income']\n",
    "y = income.map({'<=50K':0, '>50K':1})"
   ]
  },
  {
   "cell_type": "code",
   "execution_count": 8,
   "metadata": {},
   "outputs": [
    {
     "data": {
      "text/plain": [
       "0    0\n",
       "1    0\n",
       "2    1\n",
       "3    1\n",
       "4    0\n",
       "Name: Income, dtype: int64"
      ]
     },
     "execution_count": 8,
     "metadata": {},
     "output_type": "execute_result"
    }
   ],
   "source": [
    "y.head()"
   ]
  },
  {
   "cell_type": "code",
   "execution_count": 9,
   "metadata": {},
   "outputs": [],
   "source": [
    "seed = 42\n",
    "np.random.seed(seed)\n",
    "X_train, X_test, y_train, y_test = train_test_split(X, y, test_size=0.20, random_state=seed)"
   ]
  },
  {
   "cell_type": "code",
   "execution_count": 10,
   "metadata": {},
   "outputs": [
    {
     "data": {
      "text/plain": [
       "Age               int64\n",
       "WorkClass        object\n",
       "fnlwgt            int64\n",
       "Education        object\n",
       "EducationNum      int64\n",
       "MaritalStatus    object\n",
       "Occupation       object\n",
       "Relationship     object\n",
       "Race             object\n",
       "Gender           object\n",
       "CapitalGain       int64\n",
       "CapitalLoss       int64\n",
       "HoursPerWeek      int64\n",
       "NativeCountry    object\n",
       "dtype: object"
      ]
     },
     "execution_count": 10,
     "metadata": {},
     "output_type": "execute_result"
    }
   ],
   "source": [
    "X_train.dtypes"
   ]
  },
  {
   "cell_type": "code",
   "execution_count": 11,
   "metadata": {},
   "outputs": [
    {
     "data": {
      "text/plain": [
       "((39073, 14), (9769, 14))"
      ]
     },
     "execution_count": 11,
     "metadata": {},
     "output_type": "execute_result"
    }
   ],
   "source": [
    "X_train.shape, X_test.shape"
   ]
  },
  {
   "cell_type": "code",
   "execution_count": 13,
   "metadata": {},
   "outputs": [
    {
     "data": {
      "text/plain": [
       "['WorkClass',\n",
       " 'Education',\n",
       " 'MaritalStatus',\n",
       " 'Occupation',\n",
       " 'Relationship',\n",
       " 'Race',\n",
       " 'Gender',\n",
       " 'NativeCountry']"
      ]
     },
     "execution_count": 13,
     "metadata": {},
     "output_type": "execute_result"
    }
   ],
   "source": [
    "# display categorical variables\n",
    "categorical = [col for col in X_train.columns if X_train[col].dtypes == 'O']\n",
    "categorical"
   ]
  },
  {
   "cell_type": "code",
   "execution_count": 14,
   "metadata": {},
   "outputs": [
    {
     "name": "stdout",
     "output_type": "stream",
     "text": [
      "WorkClass 0.05794282496864843\n",
      "Occupation 0.05817316305377115\n",
      "NativeCountry 0.01717298390192716\n"
     ]
    },
    {
     "data": {
      "text/plain": [
       "WorkClass        2264\n",
       "Education           0\n",
       "MaritalStatus       0\n",
       "Occupation       2273\n",
       "Relationship        0\n",
       "Race                0\n",
       "Gender              0\n",
       "NativeCountry     671\n",
       "dtype: int64"
      ]
     },
     "execution_count": 14,
     "metadata": {},
     "output_type": "execute_result"
    }
   ],
   "source": [
    "# print categorical variables with missing data\n",
    "for col in categorical:\n",
    "    if X_train[col].isnull().mean()>0:\n",
    "        print(col, (X_train[col].isnull().mean()))\n",
    "\n",
    "X_train[categorical].isnull().sum()"
   ]
  },
  {
   "cell_type": "code",
   "execution_count": 15,
   "metadata": {},
   "outputs": [],
   "source": [
    "# impute missing categorical variables with most frequent value\n",
    "for df2 in [X_train, X_test]:\n",
    "    df2['WorkClass'].fillna(X_train['WorkClass'].mode()[0], inplace=True)\n",
    "    df2['Occupation'].fillna(X_train['Occupation'].mode()[0], inplace=True)\n",
    "    df2['NativeCountry'].fillna(X_train['NativeCountry'].mode()[0], inplace=True) "
   ]
  },
  {
   "cell_type": "markdown",
   "metadata": {},
   "source": [
    "<h2> Explore the data"
   ]
  },
  {
   "cell_type": "code",
   "execution_count": 16,
   "metadata": {},
   "outputs": [
    {
     "data": {
      "text/html": [
       "<!-- http://127.0.0.1:7001/2603269836608/ -->\n",
       "<iframe src=\"http://127.0.0.1:7001/2603269836608/\" width=100% height=800 frameBorder=\"0\"></iframe>"
      ]
     },
     "metadata": {},
     "output_type": "display_data"
    }
   ],
   "source": [
    "# shows the distribution of classes\n",
    "hist = ClassHistogram().explain_data(X_train, y_train, name=\"Train Data\")\n",
    "show(hist)"
   ]
  },
  {
   "cell_type": "code",
   "execution_count": 30,
   "metadata": {},
   "outputs": [
    {
     "data": {
      "text/html": [
       "<!-- http://127.0.0.1:7001/2603401836384/ -->\n",
       "<iframe src=\"http://127.0.0.1:7001/2603401836384/\" width=100% height=800 frameBorder=\"0\"></iframe>"
      ]
     },
     "metadata": {},
     "output_type": "display_data"
    }
   ],
   "source": [
    "#marginal plot for provided data\n",
    "#how is the training data distributed over a specific range of value\n",
    "#Pearson correlation coefficient to interpret the linear relationship of these features with respect to the target\n",
    "marginal = Marginal().explain_data(X_train, y_train, name='Train Data')\n",
    "show(marginal)"
   ]
  },
  {
   "cell_type": "markdown",
   "metadata": {},
   "source": [
    "<h2> Training the Explainable Boosting Machine (EBM)"
   ]
  },
  {
   "cell_type": "code",
   "execution_count": 18,
   "metadata": {},
   "outputs": [
    {
     "data": {
      "text/html": [
       "<style>#sk-container-id-1 {color: black;background-color: white;}#sk-container-id-1 pre{padding: 0;}#sk-container-id-1 div.sk-toggleable {background-color: white;}#sk-container-id-1 label.sk-toggleable__label {cursor: pointer;display: block;width: 100%;margin-bottom: 0;padding: 0.3em;box-sizing: border-box;text-align: center;}#sk-container-id-1 label.sk-toggleable__label-arrow:before {content: \"▸\";float: left;margin-right: 0.25em;color: #696969;}#sk-container-id-1 label.sk-toggleable__label-arrow:hover:before {color: black;}#sk-container-id-1 div.sk-estimator:hover label.sk-toggleable__label-arrow:before {color: black;}#sk-container-id-1 div.sk-toggleable__content {max-height: 0;max-width: 0;overflow: hidden;text-align: left;background-color: #f0f8ff;}#sk-container-id-1 div.sk-toggleable__content pre {margin: 0.2em;color: black;border-radius: 0.25em;background-color: #f0f8ff;}#sk-container-id-1 input.sk-toggleable__control:checked~div.sk-toggleable__content {max-height: 200px;max-width: 100%;overflow: auto;}#sk-container-id-1 input.sk-toggleable__control:checked~label.sk-toggleable__label-arrow:before {content: \"▾\";}#sk-container-id-1 div.sk-estimator input.sk-toggleable__control:checked~label.sk-toggleable__label {background-color: #d4ebff;}#sk-container-id-1 div.sk-label input.sk-toggleable__control:checked~label.sk-toggleable__label {background-color: #d4ebff;}#sk-container-id-1 input.sk-hidden--visually {border: 0;clip: rect(1px 1px 1px 1px);clip: rect(1px, 1px, 1px, 1px);height: 1px;margin: -1px;overflow: hidden;padding: 0;position: absolute;width: 1px;}#sk-container-id-1 div.sk-estimator {font-family: monospace;background-color: #f0f8ff;border: 1px dotted black;border-radius: 0.25em;box-sizing: border-box;margin-bottom: 0.5em;}#sk-container-id-1 div.sk-estimator:hover {background-color: #d4ebff;}#sk-container-id-1 div.sk-parallel-item::after {content: \"\";width: 100%;border-bottom: 1px solid gray;flex-grow: 1;}#sk-container-id-1 div.sk-label:hover label.sk-toggleable__label {background-color: #d4ebff;}#sk-container-id-1 div.sk-serial::before {content: \"\";position: absolute;border-left: 1px solid gray;box-sizing: border-box;top: 0;bottom: 0;left: 50%;z-index: 0;}#sk-container-id-1 div.sk-serial {display: flex;flex-direction: column;align-items: center;background-color: white;padding-right: 0.2em;padding-left: 0.2em;position: relative;}#sk-container-id-1 div.sk-item {position: relative;z-index: 1;}#sk-container-id-1 div.sk-parallel {display: flex;align-items: stretch;justify-content: center;background-color: white;position: relative;}#sk-container-id-1 div.sk-item::before, #sk-container-id-1 div.sk-parallel-item::before {content: \"\";position: absolute;border-left: 1px solid gray;box-sizing: border-box;top: 0;bottom: 0;left: 50%;z-index: -1;}#sk-container-id-1 div.sk-parallel-item {display: flex;flex-direction: column;z-index: 1;position: relative;background-color: white;}#sk-container-id-1 div.sk-parallel-item:first-child::after {align-self: flex-end;width: 50%;}#sk-container-id-1 div.sk-parallel-item:last-child::after {align-self: flex-start;width: 50%;}#sk-container-id-1 div.sk-parallel-item:only-child::after {width: 0;}#sk-container-id-1 div.sk-dashed-wrapped {border: 1px dashed gray;margin: 0 0.4em 0.5em 0.4em;box-sizing: border-box;padding-bottom: 0.4em;background-color: white;}#sk-container-id-1 div.sk-label label {font-family: monospace;font-weight: bold;display: inline-block;line-height: 1.2em;}#sk-container-id-1 div.sk-label-container {text-align: center;}#sk-container-id-1 div.sk-container {/* jupyter's `normalize.less` sets `[hidden] { display: none; }` but bootstrap.min.css set `[hidden] { display: none !important; }` so we also need the `!important` here to be able to override the default hidden behavior on the sphinx rendered scikit-learn.org. See: https://github.com/scikit-learn/scikit-learn/issues/21755 */display: inline-block !important;position: relative;}#sk-container-id-1 div.sk-text-repr-fallback {display: none;}</style><div id=\"sk-container-id-1\" class=\"sk-top-container\"><div class=\"sk-text-repr-fallback\"><pre>ExplainableBoostingClassifier()</pre><b>In a Jupyter environment, please rerun this cell to show the HTML representation or trust the notebook. <br />On GitHub, the HTML representation is unable to render, please try loading this page with nbviewer.org.</b></div><div class=\"sk-container\" hidden><div class=\"sk-item\"><div class=\"sk-estimator sk-toggleable\"><input class=\"sk-toggleable__control sk-hidden--visually\" id=\"sk-estimator-id-1\" type=\"checkbox\" checked><label for=\"sk-estimator-id-1\" class=\"sk-toggleable__label sk-toggleable__label-arrow\">ExplainableBoostingClassifier</label><div class=\"sk-toggleable__content\"><pre>ExplainableBoostingClassifier()</pre></div></div></div></div></div>"
      ],
      "text/plain": [
       "ExplainableBoostingClassifier()"
      ]
     },
     "execution_count": 18,
     "metadata": {},
     "output_type": "execute_result"
    }
   ],
   "source": [
    "ebm = ExplainableBoostingClassifier()\n",
    "ebm.fit(X_train, y_train)"
   ]
  },
  {
   "cell_type": "code",
   "execution_count": 19,
   "metadata": {},
   "outputs": [
    {
     "name": "stdout",
     "output_type": "stream",
     "text": [
      "AUC: 0.931\n"
     ]
    }
   ],
   "source": [
    "auc = roc_auc_score(y_test, ebm.predict_proba(X_test)[:, 1])\n",
    "print(\"AUC: {:.3f}\".format(auc))"
   ]
  },
  {
   "cell_type": "markdown",
   "metadata": {},
   "source": [
    "<h4> Global Explanations - explaining the entire model behavior"
   ]
  },
  {
   "cell_type": "code",
   "execution_count": 20,
   "metadata": {},
   "outputs": [
    {
     "data": {
      "text/html": [
       "<!-- http://127.0.0.1:7001/2603345203552/ -->\n",
       "<iframe src=\"http://127.0.0.1:7001/2603345203552/\" width=100% height=800 frameBorder=\"0\"></iframe>"
      ]
     },
     "metadata": {},
     "output_type": "display_data"
    }
   ],
   "source": [
    "#The term importances are the mean absolute contribution (score) each term (feature or interaction) makes to predictions averaged \n",
    "#across the training dataset. Contributions are weighted by the number of samples in each bin, and by the sample weights (if any). \n",
    "#The 15 most important terms are shown.\n",
    "ebm_global = ebm.explain_global()\n",
    "show(ebm_global)\n",
    "#InterpretML shows, what values of each feature have the strongest influence to 0 or 1"
   ]
  },
  {
   "cell_type": "markdown",
   "metadata": {},
   "source": [
    "<h4> Local Explanations: explaining individual predictions"
   ]
  },
  {
   "cell_type": "code",
   "execution_count": 21,
   "metadata": {},
   "outputs": [
    {
     "data": {
      "text/html": [
       "<!-- http://127.0.0.1:7001/2603332386192/ -->\n",
       "<iframe src=\"http://127.0.0.1:7001/2603332386192/\" width=100% height=800 frameBorder=\"0\"></iframe>"
      ]
     },
     "metadata": {},
     "output_type": "display_data"
    }
   ],
   "source": [
    "#A local explanation shows the breakdown of how much each term contributed to the prediction for a single sample. \n",
    "#The intercept reflects the average case. In regression, the intercept is the average y-value of the train set. \n",
    "#In classification, the intercept is the log of the base rate. \n",
    "#The 15 most important terms are shown\n",
    "ebm_local = ebm.explain_local(X_test[:5], y_test[:5], name = 'EBM')\n",
    "show(ebm_local)\n",
    "#shows the true value 0 or 1 and the EBM predicted value and which feature was the main driver in the explanation"
   ]
  },
  {
   "cell_type": "code",
   "execution_count": 22,
   "metadata": {},
   "outputs": [
    {
     "data": {
      "text/plain": [
       "<function matplotlib.pyplot.show(close=None, block=None)>"
      ]
     },
     "execution_count": 22,
     "metadata": {},
     "output_type": "execute_result"
    },
    {
     "data": {
      "image/png": "[encoded data removed]",
      "text/plain": [
       "<Figure size 640x480 with 2 Axes>"
      ]
     },
     "metadata": {},
     "output_type": "display_data"
    }
   ],
   "source": [
    "predictions = ebm.predict(X_test)\n",
    "cm = confusion_matrix(y_test.to_numpy(), predictions)\n",
    "disp = ConfusionMatrixDisplay(cm)\n",
    "disp.plot()\n",
    "plt.show"
   ]
  },
  {
   "cell_type": "code",
   "execution_count": 27,
   "metadata": {},
   "outputs": [
    {
     "name": "stdout",
     "output_type": "stream",
     "text": [
      "Accuracy: 0.877\n",
      "F1score: 0.716\n",
      "AUC: 0.931\n"
     ]
    },
    {
     "data": {
      "text/plain": [
       "array([[7059,  420],\n",
       "       [ 778, 1512]], dtype=int64)"
      ]
     },
     "execution_count": 27,
     "metadata": {},
     "output_type": "execute_result"
    }
   ],
   "source": [
    "auc = accuracy_score(y_test, ebm.predict(X_test))\n",
    "print(\"Accuracy: {:.3f}\".format(auc))\n",
    "f1 = f1_score(y_test, ebm.predict(X_test))\n",
    "print(\"F1score: {:.3f}\".format(f1))\n",
    "roc = roc_auc_score(y_test, ebm.predict_proba(X_test)[:, 1])\n",
    "print(\"AUC: {:.3f}\".format(roc))\n",
    "\n",
    "confusion_matrix(y_test, ebm.predict(X_test))"
   ]
  },
  {
   "cell_type": "markdown",
   "metadata": {},
   "source": [
    "<h2> Classification report"
   ]
  },
  {
   "cell_type": "code",
   "execution_count": 25,
   "metadata": {},
   "outputs": [
    {
     "name": "stdout",
     "output_type": "stream",
     "text": [
      "              precision    recall  f1-score   support\n",
      "\n",
      "           0       0.90      0.94      0.92      7479\n",
      "           1       0.78      0.66      0.72      2290\n",
      "\n",
      "    accuracy                           0.88      9769\n",
      "   macro avg       0.84      0.80      0.82      9769\n",
      "weighted avg       0.87      0.88      0.87      9769\n",
      "\n"
     ]
    }
   ],
   "source": [
    "cr = classification_report(y_test.to_numpy(), predictions)\n",
    "print(cr)\n",
    "#f1 score is close to 1, so the model is good"
   ]
  },
  {
   "cell_type": "code",
   "execution_count": 26,
   "metadata": {},
   "outputs": [
    {
     "data": {
      "text/html": [
       "<!-- http://127.0.0.1:7001/2603345735936/ -->\n",
       "<iframe src=\"http://127.0.0.1:7001/2603345735936/\" width=100% height=800 frameBorder=\"0\"></iframe>"
      ]
     },
     "metadata": {},
     "output_type": "display_data"
    }
   ],
   "source": [
    "ebm_perf = RegressionPerf(ebm.predict).explain_perf(X_test, y_test, name='EBM')\n",
    "show(ebm_perf)"
   ]
  },
  {
   "cell_type": "code",
   "execution_count": 29,
   "metadata": {},
   "outputs": [
    {
     "data": {
      "text/html": [
       "<!-- http://127.0.0.1:7001/2603412609088/ -->\n",
       "<a href=\"http://127.0.0.1:7001/2603412609088/\" target=\"_new\">Open in new window</a><iframe src=\"http://127.0.0.1:7001/2603412609088/\" width=100% height=800 frameBorder=\"0\"></iframe>"
      ]
     },
     "metadata": {},
     "output_type": "display_data"
    }
   ],
   "source": [
    "show([hist, marginal, ebm_global, ebm_local])"
   ]
  }
 ],
 "metadata": {
  "kernelspec": {
   "display_name": "bayes_xml",
   "language": "python",
   "name": "python3"
  },
  "language_info": {
   "codemirror_mode": {
    "name": "ipython",
    "version": 3
   },
   "file_extension": ".py",
   "mimetype": "text/x-python",
   "name": "python",
   "nbconvert_exporter": "python",
   "pygments_lexer": "ipython3",
   "version": "3.9.16"
  }
 },
 "nbformat": 4,
 "nbformat_minor": 2
}
